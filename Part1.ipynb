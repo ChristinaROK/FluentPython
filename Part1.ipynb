{
 "cells": [
  {
   "cell_type": "markdown",
   "metadata": {},
   "source": [
    "# Data Model (Object Model)"
   ]
  },
  {
   "cell_type": "markdown",
   "metadata": {},
   "source": [
    "## 1. special method (dunder method)\n",
    "\n",
    "> special method를 사용하면 내가 정의한 클래스를 build-in object(내장형 객체)로 만들어 build-in function(내장 함수)를 사용할 수 있다. (Pythonic!)\n",
    "\n",
    "\n",
    "* usage: not for user (ex. `obj.__len__()`) but for python interpretor (ex. `len(obj)`) to read.   \n",
    "    즉, 만약 내가 만든 class에 special method가 구현되어있다면 (ex. `__len__()`), python interpretor가 special method를 호출한다. 따라서 사용자는 special method자체를 호출하지 않고 내장 함수 (ex. `len()`)를 사용하듯이 호출하면 된다. \n",
    "    \n",
    "* tips: `__init__` 을 제외하고는 특별 메소드를 구현하는 것보다 내장 함수(`len()`, `str()`, `iter()`, ...)를 사용하는 것이 효율적임. 또한 사용자 정의 메소드나 속성을 만들 때 dunder(`__myfunc__()`, `self.__myattr__`)의 사용은 특별 메소드와 헷갈릴 수 있기 때문에 지양한다. \n",
    "    \n",
    "* types\n",
    "    ```python\n",
    "    __init__\n",
    "    __iter__\n",
    "    __str__\n",
    "    ```\n",
    "\n",
    "* special method를 이용하여 sequence object 만들기\n",
    "    * special method\n",
    "    \n",
    "    ```python\n",
    "    __getitem__()\n",
    "    __len__()\n",
    "    ```\n",
    "    \n",
    "    * 표준 라이브러리 함수를 사용 가능   \n",
    "        ex: len(), list[i], random.choice(list), ...\n",
    "\n",
    "\n",
    "* python built-in container datatypes : __list__, __dict__, __set__, __tuple__\n",
    "* python library container datatypes (__iterable object__): [source](https://data-flair.training/blogs/python-sequence/)\n",
    "    * __collections__\n",
    "        * def : no-deterministic ordering\n",
    "        * types: set, dict\n",
    "    * __sequence__ \n",
    "        * def : deterministic ordering\n",
    "        * types: list, tuple, string, range objects, bytes array(mutable), bytes sequence(immutable)"
   ]
  },
  {
   "cell_type": "markdown",
   "metadata": {},
   "source": [
    "## [additional] mutable object vs immutable object\n",
    "\n",
    "* definition\n",
    "    * immutable : 변수에 값을 한 번 지정한 후에는 값 변경이 불가능. 만약 변수의 값을 변경하면 변수의 주소값(id)가 달라짐. 즉, 다른 변수가 됨.\n",
    "    * mutable : 변수에 값을 지정한 후 값 변경이 가능. 주소값도 동일.\n",
    "* types\n",
    "    * immutable: string, tuple, bytes sequence\n",
    "    * mutable: list, range obejects, bytes array, set, dict\n",
    "    "
   ]
  },
  {
   "cell_type": "markdown",
   "metadata": {},
   "source": [
    "#### 1-1. card"
   ]
  },
  {
   "cell_type": "code",
   "execution_count": 72,
   "metadata": {},
   "outputs": [],
   "source": [
    "import collections\n",
    "\n",
    "Card = collections.namedtuple('Card', ['rank','suit']) #(1)\n",
    "\n",
    "class FrenchDeck:\n",
    "    ranks = [str(n) for n in range(2, 11)] + list('JQKA') # class attribute?\n",
    "    suits = 'spades diamonds clubs hearts'.split()\n",
    "    \n",
    "    def __init__(self):\n",
    "        self._cards = [Card(rank, suit) for suit in self.suits for rank in self.ranks] # double list comprehension\n",
    "        \n",
    "    \n",
    "    def __len__(self): #(2-1) \n",
    "        return len(self._cards)\n",
    "    \n",
    "    \n",
    "    def __getitem__(self, position): #(2-2) \n",
    "        return self._cards[position]\n",
    "        "
   ]
  },
  {
   "cell_type": "code",
   "execution_count": 67,
   "metadata": {},
   "outputs": [
    {
     "data": {
      "text/plain": [
       "'7'"
      ]
     },
     "execution_count": 67,
     "metadata": {},
     "output_type": "execute_result"
    }
   ],
   "source": [
    "#(1) method없이 attribute로만 구현된 class \n",
    "beer_card = Card(\"7\",\"diamonds\")\n",
    "beer_card.rank"
   ]
  },
  {
   "cell_type": "code",
   "execution_count": 73,
   "metadata": {},
   "outputs": [
    {
     "name": "stdout",
     "output_type": "stream",
     "text": [
      "52\n",
      "Card(rank='2', suit='spades')\n",
      "Card(rank='A', suit='hearts')\n"
     ]
    }
   ],
   "source": [
    "#(2) special(dunder) method overriding \n",
    "deck = FrenchDeck()\n",
    "\n",
    "print(len(deck)) #(2-1)\n",
    "print(deck[0]) #(2-2) getitem 메소드를 가지면 sequence object가 되어 slicing이 가능해진다. \n",
    "print(deck[51])\n",
    "\n"
   ]
  },
  {
   "cell_type": "code",
   "execution_count": 74,
   "metadata": {},
   "outputs": [
    {
     "name": "stdout",
     "output_type": "stream",
     "text": [
      "Card(rank='A', suit='clubs')\n",
      "[Card(rank='A', suit='spades'), Card(rank='A', suit='diamonds'), Card(rank='A', suit='clubs'), Card(rank='A', suit='hearts')]\n",
      "Card(rank='A', suit='hearts')\n"
     ]
    }
   ],
   "source": [
    "#(2-2) __getitem__ -> sequence object \n",
    "from random import choice # sequence object에서 임의의 값을 가져오는 메소드\n",
    "print(choice(deck))\n",
    "\n",
    "print(deck[12::13]) # slicing\n",
    "\n",
    "for card in reversed(deck): # for loop\n",
    "    print(card)\n",
    "    break\n",
    "\n"
   ]
  },
  {
   "cell_type": "code",
   "execution_count": 75,
   "metadata": {},
   "outputs": [
    {
     "data": {
      "text/plain": [
       "True"
      ]
     },
     "execution_count": 75,
     "metadata": {},
     "output_type": "execute_result"
    }
   ],
   "source": [
    "# (2-2) sequence -> in 가능\n",
    "# __contains__ method -> in 연산 가능\n",
    "Card(rank='A', suit='clubs') in deck"
   ]
  },
  {
   "cell_type": "code",
   "execution_count": 89,
   "metadata": {},
   "outputs": [
    {
     "name": "stdout",
     "output_type": "stream",
     "text": [
      "Card(rank='2', suit='clubs')\n"
     ]
    }
   ],
   "source": [
    "# (2-2) sequence -> for loop 가능 \n",
    "## priority로 sorting\n",
    "suit_values = dict(spades=3, hearts=2, diamonds=1, clubs=0)\n",
    "\n",
    "def spades_high(card):\n",
    "    rank_values = FrenchDeck.ranks.index(card.rank)\n",
    "    return rank_values * len(suit_values) + suit_values[card.suit] # rank가 우선 순위, rank가 같다면 suit비교\n",
    "\n",
    "for card in sorted(deck, key = spades_high):\n",
    "    print(card)\n",
    "    break"
   ]
  },
  {
   "cell_type": "markdown",
   "metadata": {},
   "source": [
    "#### 1-2. vector"
   ]
  },
  {
   "cell_type": "code",
   "execution_count": 112,
   "metadata": {},
   "outputs": [],
   "source": [
    "from math import hypot # Euclidean norm\n",
    "\n",
    "class Vector:\n",
    "    \n",
    "    def __init__(self, x=0, y=0):\n",
    "        self.x = x\n",
    "        self.y = y\n",
    "    \n",
    "    \n",
    "    def __repr__(self): #(1)\n",
    "        return f\"Vector({self.x},{self.y})\"\n",
    "    \n",
    "    \n",
    "    def __abs__(self): \n",
    "        return hypot(self.x, self.y)\n",
    "    \n",
    "    \n",
    "    def __bool__(self): #(2)\n",
    "        return bool(abs(self))\n",
    "    \n",
    "    \n",
    "    def __add__(self, other):\n",
    "        x = self.x + other.x\n",
    "        y = self.y + other.y\n",
    "        return Vector(x,y)\n",
    "    \n",
    "    \n",
    "    def __mul__(self, scalar):\n",
    "        return Vector(self.x*scalar, self.y*scalar)\n",
    "    "
   ]
  },
  {
   "cell_type": "code",
   "execution_count": 114,
   "metadata": {},
   "outputs": [
    {
     "data": {
      "text/plain": [
       "Vector(2,3)"
      ]
     },
     "execution_count": 114,
     "metadata": {},
     "output_type": "execute_result"
    }
   ],
   "source": [
    "# (1) 객체를 문자열(class 호출하는 모습과 동일)로 표현하는 특별 메소드 __repr__()\n",
    "Vector(2,3)"
   ]
  },
  {
   "cell_type": "code",
   "execution_count": 122,
   "metadata": {},
   "outputs": [
    {
     "name": "stdout",
     "output_type": "stream",
     "text": [
      "False\n",
      "falsy Vector(0,0)\n"
     ]
    }
   ],
   "source": [
    "# (2) 파이썬 인터프리터는 오브젝트에 __bool__()이 정의되지 않는다면 __len__()을 호출 ex. list object\n",
    "print(bool(Vector()))\n",
    "\n",
    "obj = Vector()\n",
    "if obj:\n",
    "    print(f\"truthy {obj}\")\n",
    "else:\n",
    "    print(f\"falsy {obj}\")"
   ]
  },
  {
   "cell_type": "code",
   "execution_count": null,
   "metadata": {},
   "outputs": [],
   "source": []
  }
 ],
 "metadata": {
  "kernelspec": {
   "display_name": "Python 3",
   "language": "python",
   "name": "python3"
  },
  "language_info": {
   "codemirror_mode": {
    "name": "ipython",
    "version": 3
   },
   "file_extension": ".py",
   "mimetype": "text/x-python",
   "name": "python",
   "nbconvert_exporter": "python",
   "pygments_lexer": "ipython3",
   "version": "3.6.9"
  }
 },
 "nbformat": 4,
 "nbformat_minor": 4
}
