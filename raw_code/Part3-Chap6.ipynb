{
 "cells": [
  {
   "cell_type": "markdown",
   "metadata": {},
   "source": [
    "# Part3: Function as object (객체로서의 함수)\n",
    "> 현재 Fluent Python 을 공부하고, 파트별로 핵심 내용을 정리하고 있다.   \n",
    "> 오늘은 세번째 파트인 (first-class function)일급 객체로서의 함수에 대해 알아본다. "
   ]
  },
  {
   "cell_type": "markdown",
   "metadata": {},
   "source": [
    "## Chapter6: Design pattern of first-class function (일급 함수 디자인 패턴)\n",
    "\n",
    "> 함수 객체를 이용한 리펙토링으로 패턴을 단순화"
   ]
  },
  {
   "cell_type": "markdown",
   "metadata": {},
   "source": [
    "### 전략 패턴 (Strategy Pattern)\n",
    "\n",
    "* 정의: 공유 객체(전략 객체)를 생성해 여러 콘텍스트에 동시에 사용할 수 있도록 함 \n",
    "* 장점\n",
    "    * 객체를 공유하기때문에 반복 작업에 소요되는 비용을 줄일 수 있음\n",
    "    * 알고리즘을 사용하는 클라이언트와 알고리즘을 독립적으로 변경 가능\n",
    "    \n",
    "* UML(Unified Modeling Language) class diagram\n",
    "    * 다이어그램 기본 설명 : [참고 url](https://morm.tistory.com/88)\n",
    "    * 콘텍스트 (context) : 콘텍스트의 클라이언트에 따라 하나의 전략이 선택됨\n",
    "    * 전략 (strategy) : 여러 알고리즘이 구현하는 컴포넌트의 공통 인터페이스 (추상 클래스)\n",
    "    * 구체적인 전략 : 전략의 서브 클래스 중 하나\n",
    "    \n",
    "![img](./chap6-uml.png)"
   ]
  },
  {
   "cell_type": "code",
   "execution_count": 21,
   "metadata": {},
   "outputs": [],
   "source": [
    "from abc import ABC, abstractmethod\n",
    "from collections import namedtuple\n",
    "\n",
    "Customer = namedtuple('Customer', 'name fidelity') # client\n",
    "\n",
    "class LineItem:\n",
    "    \n",
    "    def __init__(self, product, quantity, price):\n",
    "        self.product = product\n",
    "        self.quantity = quantity\n",
    "        self.price = price\n",
    "    \n",
    "    \n",
    "    def total(self):\n",
    "        return self.price * self.quantity\n",
    "\n",
    "    \n",
    "class Order: # Context\n",
    "    \n",
    "    def __init__(self, customer, cart, promotion=None):\n",
    "        self.customer = customer\n",
    "        self.cart = list(cart)\n",
    "        self.promotion = promotion\n",
    "    \n",
    "    \n",
    "    def total(self):\n",
    "        if not hasattr(self, '_total'):\n",
    "            self._total = sum(item.total() for item in self.cart)\n",
    "        return self._total\n",
    "    \n",
    "    \n",
    "    def due(self):\n",
    "        if self.promotion is None:\n",
    "            discount = 0\n",
    "        else:\n",
    "            discount = self.promotion.discount(self) # Promotion의 개별 자식 클래스의 메소드(인수로 self를 갖는)를 호출\n",
    "        return self.total() - discount\n",
    "    \n",
    "    \n",
    "    def __repr__(self):\n",
    "        return f'<Order total : {self.total():,.0f} due : {self.due():,.0f}>'\n",
    "\n",
    "    \n",
    "class Promotion(ABC): # Strategy : Abstract base class \n",
    "    \n",
    "    @abstractmethod\n",
    "    def discount(self, order):\n",
    "        \"\"\"\n",
    "        할인액을 구체적이 숫자로 반환한다.\n",
    "        \"\"\"\n",
    "\n",
    "        \n",
    "class FidelityPromo(Promotion): # Specific Strategy 1\n",
    "    \"\"\"충성도 포인트가 1000점 이상인 고객에게 전체 5% 할인 적용\"\"\"\n",
    "    \n",
    "    \n",
    "    def discount(self, order):\n",
    "        return order.total() * .05 if order.customer.fidelity >= 1000 else 0\n",
    "\n",
    "    \n",
    "class BulkItemPromo(Promotion): # Specific Strategy 2\n",
    "    \"\"\"20개 이상의 동일 상품을 구입하면 해당 상품에 대해 10% 할인 적용\"\"\"\n",
    "    \n",
    "    \n",
    "    def discount(self, order):\n",
    "        discount = 0\n",
    "        for item in order.cart:\n",
    "            if item.quantity>= 20:\n",
    "                discount += item.total() * .1\n",
    "        return discount\n",
    "\n",
    "    \n",
    "class LargeOrderPromo(Promotion): # Specific Strategy 3\n",
    "    \"\"\"서로 다른 상품을 10종류 이상 주문하면 전체 주문에 대해 7% 할인 적용\"\"\"\n",
    "    \n",
    "    \n",
    "    def discount(self, order):\n",
    "        unique_item = {item.product for item in order.cart}\n",
    "        return order.total() * .07 if len(unique_item)>=10 else 0"
   ]
  },
  {
   "cell_type": "code",
   "execution_count": 23,
   "metadata": {},
   "outputs": [
    {
     "name": "stdout",
     "output_type": "stream",
     "text": [
      "<Order total : 41,600 due : 39,520>\n",
      "<Order total : 41,600 due : 41,600>\n"
     ]
    }
   ],
   "source": [
    "# client\n",
    "chris = Customer('Christina', 0)\n",
    "wang = Customer('Daewang', 1100)\n",
    "cart = [LineItem('banana', 4, 500),LineItem('wine', 2, 15000), LineItem('puppygum', 12, 800)]\n",
    "\n",
    "print(Order(wang, cart, FidelityPromo()))\n",
    "print(Order(chris, cart, FidelityPromo()))\n"
   ]
  },
  {
   "cell_type": "markdown",
   "metadata": {},
   "source": [
    "* 함수 지향 전략 \n",
    "    * 추상 클래스로 구현됐던 Strategy 클래스를 제거\n",
    "    * Specific Strategy를 개별 함수로 구현"
   ]
  },
  {
   "cell_type": "code",
   "execution_count": 59,
   "metadata": {},
   "outputs": [],
   "source": [
    "from collections import namedtuple\n",
    "\n",
    "Customer = namedtuple('Customer', 'name fidelity') # client\n",
    "\n",
    "class LineItem:\n",
    "    \n",
    "    def __init__(self, product, quantity, price):\n",
    "        self.product = product\n",
    "        self.quantity = quantity\n",
    "        self.price = price\n",
    "    \n",
    "    \n",
    "    def total(self):\n",
    "        return self.price * self.quantity\n",
    "\n",
    "\n",
    "class Order: # context\n",
    "    \n",
    "    def __init__(self, customer, cart, promotion=None):\n",
    "        self.customer = customer\n",
    "        self.cart = list(cart) ## \n",
    "        self.promotion = promotion\n",
    "    \n",
    "    def total(self):\n",
    "        if not hasattr(self, '_total'):\n",
    "            self._total = sum(item.total() for item in self.cart)\n",
    "        return self._total\n",
    "    \n",
    "    \n",
    "    def due(self):\n",
    "        if self.promotion is None:\n",
    "            discount = 0\n",
    "        else:\n",
    "            discount = self.promotion(self) # 개별 함수를 호출(인수로 self를 갖는)\n",
    "        return self.total() - discount\n",
    "    \n",
    "    \n",
    "    def __repr__(self):\n",
    "        return f'<Order total : {self.total():,.0f} due : {self.due():,.0f}>'\n",
    "\n",
    "    \n",
    "def fidelity_promo(order): # Specific Strategy 1\n",
    "    \"\"\"충성도 포인트가 1000점 이상인 고객에게 전체 5% 할인 적용\"\"\"\n",
    "    return order.total() *.05 if order.customer.fidelity >= 1000 else 0\n",
    "\n",
    "def bulk_item_promo(order): # Specific Strategy 2\n",
    "    \"\"\"20개 이상의 동일 상품을 구입하면 해당 상품에 대해 10% 할인 적용\"\"\"\n",
    "    discount = 0\n",
    "    for item in order.cart:\n",
    "        if item.quantity >= 20:\n",
    "            discount += item.total() * .1\n",
    "    return discount\n",
    "\n",
    "def large_order_promo(order): # Specific Strategy 3\n",
    "    \"\"\"서로 다른 상품을 10종류 이상 주문하면 전체 주문에 대해 7% 할인 적용\"\"\"\n",
    "    unique_item = set(item.product for item in order.cart)\n",
    "    if len(unique_item) >= 10:\n",
    "        return order.total() * .07\n",
    "    return 0"
   ]
  },
  {
   "cell_type": "code",
   "execution_count": 60,
   "metadata": {},
   "outputs": [
    {
     "name": "stdout",
     "output_type": "stream",
     "text": [
      "<Order total : 41,600 due : 39,520>\n",
      "<Order total : 41,600 due : 41,600>\n",
      "<Order total : 36,500 due : 32,850>\n",
      "<Order total : 20,000 due : 18,600>\n"
     ]
    }
   ],
   "source": [
    "# client\n",
    "chris = Customer('Christina', 0)\n",
    "wang = Customer('Daewang', 1100)\n",
    "cart = [LineItem('banana', 4, 500),LineItem('wine', 2, 15000), LineItem('puppygum', 12, 800)]\n",
    "\n",
    "print(Order(wang, cart, fidelity_promo))\n",
    "print(Order(chris, cart, fidelity_promo))\n",
    "\n",
    "puppy_cart = [LineItem('puppygum', 30, 800), LineItem('banana', 25, 500)]\n",
    "print(Order(wang, puppy_cart, bulk_item_promo))\n",
    "\n",
    "long_order = [LineItem(str(item_code), 1, 2000) for item_code in range(10)]\n",
    "print(Order(chris, long_order, large_order_promo))"
   ]
  },
  {
   "cell_type": "markdown",
   "metadata": {},
   "source": [
    "* 최선의 전략으로 리펙토링하기"
   ]
  },
  {
   "cell_type": "code",
   "execution_count": 73,
   "metadata": {},
   "outputs": [],
   "source": [
    "promos = [fidelity_promo, bulk_item_promo, large_order_promo] # (1)\n",
    "def best_promo(order):\n",
    "    \"\"\"최대로 할인받을 금액을 반환\"\"\"\n",
    "    return max([promo(order) for promo in promos])"
   ]
  },
  {
   "cell_type": "code",
   "execution_count": 75,
   "metadata": {},
   "outputs": [
    {
     "name": "stdout",
     "output_type": "stream",
     "text": [
      "<Order total : 36,500 due : 32,850>\n",
      "<Order total : 20,000 due : 18,600>\n"
     ]
    }
   ],
   "source": [
    "print(Order(wang, puppy_cart, best_promo))\n",
    "print(Order(chris, long_order, best_promo))"
   ]
  },
  {
   "cell_type": "markdown",
   "metadata": {},
   "source": [
    "* (1) list of functions : 새로운 promotion함수가 정의될때마다 수동으로 함수를 추가해야한다는 문제가 발생"
   ]
  },
  {
   "cell_type": "markdown",
   "metadata": {},
   "source": [
    "* 해결1 (하나의 모듈에 모든 코드를 모아 놓음) : `globals()` 내장 함수\n",
    "    * __현재 모듈__에 대한 내용 테이블을 나타내는 딕셔너리 객체 (__현재 모듈__이란, globals()가 호출된 위치를 기준으로 한다. 예를 들어, 메서드 안에서 호출되면 메서드를 호출한 모듈이 아니라 메서드가 __정의된__ 모듈을 의미한다.)  "
   ]
  },
  {
   "cell_type": "code",
   "execution_count": 80,
   "metadata": {},
   "outputs": [],
   "source": [
    "promos = [globals()[name] for name in globals() \n",
    "                if name.endswith('_promo') and name != 'best_promo']\n",
    "def best_promo(order):\n",
    "    \"\"\"최대로 할인받을 금액을 반환\"\"\"\n",
    "    return max([promo(order) for promo in promos])"
   ]
  },
  {
   "cell_type": "markdown",
   "metadata": {},
   "source": [
    "* 해결2 (모듈을 분리): `inspect` 모듈의 `getmembers` 매소드\n",
    "    * 함수만을 모아 놓은 모듈을 임포트해와 함수인 객체만 사용하는 방법"
   ]
  },
  {
   "cell_type": "code",
   "execution_count": 86,
   "metadata": {},
   "outputs": [],
   "source": [
    "import inspect\n",
    "import promos # *_promo 함수만 모아 놓은 모듈\n",
    "    \n",
    "promos = [func for name, func in inspect.getmembers(promotions, inspect.isfunction)]\n",
    "def best_promo(order):\n",
    "    \"\"\"최대로 할인받을 금액을 반환\"\"\"\n",
    "    return max([promo(order) for promo in promos])"
   ]
  },
  {
   "cell_type": "markdown",
   "metadata": {},
   "source": [
    "### 명령 패턴 (Command Pattern)"
   ]
  },
  {
   "cell_type": "markdown",
   "metadata": {},
   "source": [
    "* 정의: 연산을 실행하는 객체(=호출자(invoker))와 연산을 구현하는 객체(=수신자(receiver))를 분리하여 구현 \n",
    "* 장점\n",
    "     * 호출자는 수신자의 인터페이스를 알 필요가 없음\n",
    "     * 호출자는 서브클래스를 통해 새로운 수신자를 추가할 수 있음\n",
    "* UML(Unified Modeling Language) class diagram"
   ]
  }
 ],
 "metadata": {
  "kernelspec": {
   "display_name": "Python 3",
   "language": "python",
   "name": "python3"
  },
  "language_info": {
   "codemirror_mode": {
    "name": "ipython",
    "version": 3
   },
   "file_extension": ".py",
   "mimetype": "text/x-python",
   "name": "python",
   "nbconvert_exporter": "python",
   "pygments_lexer": "ipython3",
   "version": "3.6.9"
  },
  "toc": {
   "base_numbering": 1,
   "nav_menu": {},
   "number_sections": true,
   "sideBar": true,
   "skip_h1_title": false,
   "title_cell": "Table of Contents",
   "title_sidebar": "Contents",
   "toc_cell": false,
   "toc_position": {
    "height": "calc(100% - 180px)",
    "left": "10px",
    "top": "150px",
    "width": "165px"
   },
   "toc_section_display": true,
   "toc_window_display": true
  }
 },
 "nbformat": 4,
 "nbformat_minor": 4
}
