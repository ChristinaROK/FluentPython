{
 "cells": [
  {
   "cell_type": "markdown",
   "metadata": {},
   "source": [
    "# Part3: Function as object (객체로서의 함수)\n",
    "> 현재 Fluent Python 을 공부하고, 파트별로 핵심 내용을 정리하고 있다.   \n",
    "> 오늘은 세번째 파트인 (first-class function)일급 객체로서의 함수에 대해 알아본다. "
   ]
  },
  {
   "cell_type": "markdown",
   "metadata": {},
   "source": [
    "## Chapter1: First-class function (일급 함수)\n",
    "\n",
    "> 파이썬 함수는 일급 객체의 특징을 갖고 있다. 일급 객체의 특징으로는 변수에 할당 가능하며 함수의 인자로 전달이 가능하며 함수의 결과로 반환 가능하다는 점이 있다. 이번 장에서는 함수의 콜러블(callable) 특징, 함수의 속성(atttribute), 함수의 매개 변수 (parameters), 함수 애너테이션 (annotation), 그리고 내장 함수를 이용해 함수형 프로그래밍을 하는 방법을 알아본다. \n"
   ]
  },
  {
   "cell_type": "markdown",
   "metadata": {},
   "source": [
    "### function is first-class object(일급 객체)\n",
    "* 정의 \n",
    "    1. runtime에 생성 가능 \n",
    "    2. 변수나 요소에 할당 가능\n",
    "    3. 함수의 parameter (인자)로 전달 가능\n",
    "    4. 함수의 결과로 반환 가능\n",
    "* 종류 : int, str, dictionary, **function**, ..."
   ]
  },
  {
   "cell_type": "code",
   "execution_count": 147,
   "metadata": {},
   "outputs": [],
   "source": [
    "def factorial(n): # (1) runtime에 생성 가능\n",
    "    \"\"\"\n",
    "    factorial function\n",
    "    \"\"\"\n",
    "    return 1 if n<2 else n*factorial(n-1)"
   ]
  },
  {
   "cell_type": "code",
   "execution_count": 2,
   "metadata": {},
   "outputs": [
    {
     "name": "stdout",
     "output_type": "stream",
     "text": [
      "<class 'function'>\n"
     ]
    }
   ],
   "source": [
    "# 1. 함수는 function이라는 class의 객체(instance)이다.\n",
    "print(type(factorial))"
   ]
  },
  {
   "cell_type": "code",
   "execution_count": 9,
   "metadata": {},
   "outputs": [
    {
     "name": "stdout",
     "output_type": "stream",
     "text": [
      "\n",
      "    factorial function\n",
      "    \n",
      "Help on function factorial in module __main__:\n",
      "\n",
      "factorial(n)\n",
      "    factorial function\n",
      "\n"
     ]
    }
   ],
   "source": [
    "# 2. 함수도 attribute(속성) (__doc__)을 갖고 있다. \n",
    "print(factorial.__doc__)\n",
    "help(factorial)"
   ]
  },
  {
   "cell_type": "code",
   "execution_count": 149,
   "metadata": {},
   "outputs": [
    {
     "data": {
      "text/plain": [
       "<function __main__.factorial(n)>"
      ]
     },
     "execution_count": 149,
     "metadata": {},
     "output_type": "execute_result"
    }
   ],
   "source": [
    "fact = factorial # (2) 변수에 할당 가능\n",
    "fact"
   ]
  },
  {
   "cell_type": "code",
   "execution_count": 15,
   "metadata": {},
   "outputs": [
    {
     "data": {
      "text/plain": [
       "[1, 2, 6, 24, 120, 720, 5040, 40320, 362880]"
      ]
     },
     "execution_count": 15,
     "metadata": {},
     "output_type": "execute_result"
    }
   ],
   "source": [
    "list(map(fact, range(1,10))) # (3) 함수의 인자로 전달 가능"
   ]
  },
  {
   "cell_type": "markdown",
   "metadata": {},
   "source": [
    "### higher-order function (고위 함수)\n",
    "* 정의 : 함수를 인자로 받거나 결과로 함수를 반환하는 함수\n",
    "* 종류 : map(lambda x : x+1, [1,2,3]), sorted([1,2,3],key = len), filter(), reduce(), apply(*python3 지원하지않음*)\n",
    "* 대안 : list comprehension with lambda "
   ]
  },
  {
   "cell_type": "code",
   "execution_count": 152,
   "metadata": {},
   "outputs": [
    {
     "name": "stdout",
     "output_type": "stream",
     "text": [
      "map function:  [1, 1, 2, 6, 24, 120, 720, 5040, 40320, 362880]\n",
      "alternative:  [1, 1, 2, 6, 24, 120, 720, 5040, 40320, 362880]\n",
      "filter function:  [1, 6, 120]\n",
      "alternative:  [1, 6, 120]\n",
      "reduce function:  4950\n",
      "alternative:  4950\n"
     ]
    }
   ],
   "source": [
    "from functools import reduce\n",
    "\n",
    "print(\"map function: \", list(map(fact, range(10))))\n",
    "print(\"alternative: \",[fact(i) for i in range(10)])\n",
    "\n",
    "print(\"filter function: \", list(map(fact, filter(lambda x : x % 2, range(6)))))\n",
    "print(\"alternative: \", [fact(i) for i in range(6) if i % 2])\n",
    "\n",
    "print(\"reduce function: \", reduce(lambda x,y : x+y, range(100)))\n",
    "print(\"alternative: \", sum(range(100)))"
   ]
  },
  {
   "cell_type": "code",
   "execution_count": 153,
   "metadata": {},
   "outputs": [
    {
     "name": "stdout",
     "output_type": "stream",
     "text": [
      "True\n"
     ]
    },
    {
     "data": {
      "text/plain": [
       "False"
      ]
     },
     "execution_count": 153,
     "metadata": {},
     "output_type": "execute_result"
    }
   ],
   "source": [
    "print(all([])) # iterable의 요소 하나라도 false로 판명되지 않았기 때문에 true (all is innocent until one is proven to be guilty)\n",
    "any([]) # iterable의 요소가 하나라도 true로 판명되지 않았기 때문에 false (all is guilty until one is proven to be innocent)"
   ]
  },
  {
   "cell_type": "markdown",
   "metadata": {},
   "source": [
    "### callable object (호출 연산자  `()`로 호출 가능한 객체)\n",
    "* 종류 : \n",
    "    * 함수\n",
    "        * 사용자 정의 함수(ex. def, lambda를 이용한 함수)\n",
    "        * 내장 함수(ex. len())\n",
    "    * 매서드\n",
    "        * 일반 매서드 (ex. 클래스 본체에 정의된 함수)\n",
    "        * 내장 매서드 (ex. dict.get())\n",
    "    * 클래스 및 클래스 객체 : 클래스내에 `__call__` 메서드가 구현되어 있으면 클래스를 함수로 호출 가능\n",
    "    * 제너레이터 함수 : 제너레이터 함수 (ex. yield 키워드를 포함한 함수)를 호출하면 제너레이터 객체를 반환 함. "
   ]
  },
  {
   "cell_type": "markdown",
   "metadata": {},
   "source": [
    "#### bingocall"
   ]
  },
  {
   "cell_type": "code",
   "execution_count": 8,
   "metadata": {},
   "outputs": [],
   "source": [
    "import random\n",
    "\n",
    "\n",
    "class BingoCage:\n",
    "    \n",
    "    def __init__(self, items):\n",
    "        self._item = list(items) #(1) items가 mutable object이기 때문에 사본(copy)을 만들어 인수로 전단된 items의 변형을 방지\n",
    "        random.shuffle(self._item)\n",
    "        \n",
    "    \n",
    "    def pick(self):\n",
    "        try:\n",
    "            return self._item.pop() #(2)\n",
    "        except IndexError:\n",
    "            raise LookupError(\"pick from empty BingoCage\")\n",
    "        \n",
    "    \n",
    "    def __call__(self): #(3)\n",
    "        return self.pick()\n",
    "\n",
    "bingo = BingoCage(range(3))"
   ]
  },
  {
   "cell_type": "markdown",
   "metadata": {},
   "source": [
    "* (3)클래스가 콜러블형(callable)인지 확인 "
   ]
  },
  {
   "cell_type": "code",
   "execution_count": 49,
   "metadata": {},
   "outputs": [
    {
     "name": "stdout",
     "output_type": "stream",
     "text": [
      "True\n"
     ]
    }
   ],
   "source": [
    "print(callable(bingo))"
   ]
  },
  {
   "cell_type": "markdown",
   "metadata": {},
   "source": [
    "* (2) 객체가 호출될 때마다 항목이 하나씩 없어진 상태를 기억. **decorator** 함수도 호출된 이 후의 상태를 기억하는 기능을 함. "
   ]
  },
  {
   "cell_type": "code",
   "execution_count": 50,
   "metadata": {},
   "outputs": [
    {
     "ename": "LookupError",
     "evalue": "pick from empty BingoCage",
     "output_type": "error",
     "traceback": [
      "\u001b[0;31m---------------------------------------------------------------------------\u001b[0m",
      "\u001b[0;31mIndexError\u001b[0m                                Traceback (most recent call last)",
      "\u001b[0;32m<ipython-input-47-5d5197a3247e>\u001b[0m in \u001b[0;36mpick\u001b[0;34m(self)\u001b[0m\n\u001b[1;32m     12\u001b[0m         \u001b[0;32mtry\u001b[0m\u001b[0;34m:\u001b[0m\u001b[0;34m\u001b[0m\u001b[0;34m\u001b[0m\u001b[0m\n\u001b[0;32m---> 13\u001b[0;31m             \u001b[0;32mreturn\u001b[0m \u001b[0mself\u001b[0m\u001b[0;34m.\u001b[0m\u001b[0m_item\u001b[0m\u001b[0;34m.\u001b[0m\u001b[0mpop\u001b[0m\u001b[0;34m(\u001b[0m\u001b[0;34m)\u001b[0m \u001b[0;31m#(2)\u001b[0m\u001b[0;34m\u001b[0m\u001b[0;34m\u001b[0m\u001b[0m\n\u001b[0m\u001b[1;32m     14\u001b[0m         \u001b[0;32mexcept\u001b[0m \u001b[0mIndexError\u001b[0m\u001b[0;34m:\u001b[0m\u001b[0;34m\u001b[0m\u001b[0;34m\u001b[0m\u001b[0m\n",
      "\u001b[0;31mIndexError\u001b[0m: pop from empty list",
      "\nDuring handling of the above exception, another exception occurred:\n",
      "\u001b[0;31mLookupError\u001b[0m                               Traceback (most recent call last)",
      "\u001b[0;32m<ipython-input-50-4ad15f0b82f3>\u001b[0m in \u001b[0;36m<module>\u001b[0;34m\u001b[0m\n\u001b[0;32m----> 1\u001b[0;31m \u001b[0mprint\u001b[0m\u001b[0;34m(\u001b[0m\u001b[0mbingo\u001b[0m\u001b[0;34m(\u001b[0m\u001b[0;34m)\u001b[0m\u001b[0;34m)\u001b[0m\u001b[0;34m\u001b[0m\u001b[0;34m\u001b[0m\u001b[0m\n\u001b[0m\u001b[1;32m      2\u001b[0m \u001b[0mprint\u001b[0m\u001b[0;34m(\u001b[0m\u001b[0mbingo\u001b[0m\u001b[0;34m(\u001b[0m\u001b[0;34m)\u001b[0m\u001b[0;34m)\u001b[0m\u001b[0;34m\u001b[0m\u001b[0;34m\u001b[0m\u001b[0m\n\u001b[1;32m      3\u001b[0m \u001b[0mprint\u001b[0m\u001b[0;34m(\u001b[0m\u001b[0mbingo\u001b[0m\u001b[0;34m(\u001b[0m\u001b[0;34m)\u001b[0m\u001b[0;34m)\u001b[0m\u001b[0;34m\u001b[0m\u001b[0;34m\u001b[0m\u001b[0m\n\u001b[1;32m      4\u001b[0m \u001b[0mprint\u001b[0m\u001b[0;34m(\u001b[0m\u001b[0mbingo\u001b[0m\u001b[0;34m(\u001b[0m\u001b[0;34m)\u001b[0m\u001b[0;34m)\u001b[0m\u001b[0;34m\u001b[0m\u001b[0;34m\u001b[0m\u001b[0m\n",
      "\u001b[0;32m<ipython-input-47-5d5197a3247e>\u001b[0m in \u001b[0;36m__call__\u001b[0;34m(self)\u001b[0m\n\u001b[1;32m     17\u001b[0m \u001b[0;34m\u001b[0m\u001b[0m\n\u001b[1;32m     18\u001b[0m     \u001b[0;32mdef\u001b[0m \u001b[0m__call__\u001b[0m\u001b[0;34m(\u001b[0m\u001b[0mself\u001b[0m\u001b[0;34m)\u001b[0m\u001b[0;34m:\u001b[0m\u001b[0;34m\u001b[0m\u001b[0;34m\u001b[0m\u001b[0m\n\u001b[0;32m---> 19\u001b[0;31m         \u001b[0;32mreturn\u001b[0m \u001b[0mself\u001b[0m\u001b[0;34m.\u001b[0m\u001b[0mpick\u001b[0m\u001b[0;34m(\u001b[0m\u001b[0;34m)\u001b[0m\u001b[0;34m\u001b[0m\u001b[0;34m\u001b[0m\u001b[0m\n\u001b[0m\u001b[1;32m     20\u001b[0m \u001b[0;34m\u001b[0m\u001b[0m\n\u001b[1;32m     21\u001b[0m \u001b[0mbingo\u001b[0m \u001b[0;34m=\u001b[0m \u001b[0mBingoCage\u001b[0m\u001b[0;34m(\u001b[0m\u001b[0mrange\u001b[0m\u001b[0;34m(\u001b[0m\u001b[0;36m3\u001b[0m\u001b[0;34m)\u001b[0m\u001b[0;34m)\u001b[0m\u001b[0;34m\u001b[0m\u001b[0;34m\u001b[0m\u001b[0m\n",
      "\u001b[0;32m<ipython-input-47-5d5197a3247e>\u001b[0m in \u001b[0;36mpick\u001b[0;34m(self)\u001b[0m\n\u001b[1;32m     13\u001b[0m             \u001b[0;32mreturn\u001b[0m \u001b[0mself\u001b[0m\u001b[0;34m.\u001b[0m\u001b[0m_item\u001b[0m\u001b[0;34m.\u001b[0m\u001b[0mpop\u001b[0m\u001b[0;34m(\u001b[0m\u001b[0;34m)\u001b[0m \u001b[0;31m#(2)\u001b[0m\u001b[0;34m\u001b[0m\u001b[0;34m\u001b[0m\u001b[0m\n\u001b[1;32m     14\u001b[0m         \u001b[0;32mexcept\u001b[0m \u001b[0mIndexError\u001b[0m\u001b[0;34m:\u001b[0m\u001b[0;34m\u001b[0m\u001b[0;34m\u001b[0m\u001b[0m\n\u001b[0;32m---> 15\u001b[0;31m             \u001b[0;32mraise\u001b[0m \u001b[0mLookupError\u001b[0m\u001b[0;34m(\u001b[0m\u001b[0;34m\"pick from empty BingoCage\"\u001b[0m\u001b[0;34m)\u001b[0m\u001b[0;34m\u001b[0m\u001b[0;34m\u001b[0m\u001b[0m\n\u001b[0m\u001b[1;32m     16\u001b[0m \u001b[0;34m\u001b[0m\u001b[0m\n\u001b[1;32m     17\u001b[0m \u001b[0;34m\u001b[0m\u001b[0m\n",
      "\u001b[0;31mLookupError\u001b[0m: pick from empty BingoCage"
     ]
    }
   ],
   "source": [
    "print(bingo())\n",
    "print(bingo())\n",
    "print(bingo())\n",
    "print(bingo())"
   ]
  },
  {
   "cell_type": "markdown",
   "metadata": {},
   "source": [
    "### function introspection (함수 인트로스펙션)"
   ]
  },
  {
   "cell_type": "code",
   "execution_count": 3,
   "metadata": {},
   "outputs": [
    {
     "data": {
      "text/plain": [
       "['__annotations__',\n",
       " '__call__',\n",
       " '__class__',\n",
       " '__closure__',\n",
       " '__code__',\n",
       " '__defaults__',\n",
       " '__delattr__',\n",
       " '__dict__',\n",
       " '__dir__',\n",
       " '__doc__',\n",
       " '__eq__',\n",
       " '__format__',\n",
       " '__ge__',\n",
       " '__get__',\n",
       " '__getattribute__',\n",
       " '__globals__',\n",
       " '__gt__',\n",
       " '__hash__',\n",
       " '__init__',\n",
       " '__init_subclass__',\n",
       " '__kwdefaults__',\n",
       " '__le__',\n",
       " '__lt__',\n",
       " '__module__',\n",
       " '__name__',\n",
       " '__ne__',\n",
       " '__new__',\n",
       " '__qualname__',\n",
       " '__reduce__',\n",
       " '__reduce_ex__',\n",
       " '__repr__',\n",
       " '__setattr__',\n",
       " '__sizeof__',\n",
       " '__str__',\n",
       " '__subclasshook__']"
      ]
     },
     "execution_count": 3,
     "metadata": {},
     "output_type": "execute_result"
    }
   ],
   "source": [
    "# factorial 함수의 속성 (attribute) 확인\n",
    "dir(factorial)"
   ]
  },
  {
   "cell_type": "markdown",
   "metadata": {},
   "source": [
    "* `__dict__`\n",
    "    * 객체에 할당된 속성(attribute)를 보관"
   ]
  },
  {
   "cell_type": "code",
   "execution_count": 7,
   "metadata": {},
   "outputs": [
    {
     "data": {
      "text/plain": [
       "{'short_descrption': 'Customer name'}"
      ]
     },
     "execution_count": 7,
     "metadata": {},
     "output_type": "execute_result"
    }
   ],
   "source": [
    "def upper_case_name(obj):\n",
    "    return (\"%s %s\"%((obj.first_name, obj.last_name).upper()))\n",
    "upper_case_name.short_descrption = 'Customer name'\n",
    "\n",
    "upper_case_name.__dict__"
   ]
  },
  {
   "cell_type": "markdown",
   "metadata": {},
   "source": [
    "* 함수에만 존재하는 속성 리스트 (다른 객체에는 ex. 클래스 기본적으로 존재하지 않음)"
   ]
  },
  {
   "cell_type": "code",
   "execution_count": 13,
   "metadata": {},
   "outputs": [
    {
     "data": {
      "text/plain": [
       "['__annotations__',\n",
       " '__call__',\n",
       " '__closure__',\n",
       " '__code__',\n",
       " '__defaults__',\n",
       " '__get__',\n",
       " '__globals__',\n",
       " '__kwdefaults__',\n",
       " '__name__',\n",
       " '__qualname__']"
      ]
     },
     "execution_count": 13,
     "metadata": {},
     "output_type": "execute_result"
    }
   ],
   "source": [
    "class C: pass\n",
    "obj = C()\n",
    "def func(): pass\n",
    "sorted(set(dir(func)) - set(dir(obj)))"
   ]
  },
  {
   "cell_type": "markdown",
   "metadata": {},
   "source": [
    "### function arguments \n",
    "* keyword-only argument (키워드 전용 인수) : "
   ]
  },
  {
   "cell_type": "code",
   "execution_count": 54,
   "metadata": {},
   "outputs": [],
   "source": [
    "def tag(name, *content, cls=None, **attrs):\n",
    "    \"\"\"\n",
    "    하나 이상의 HTML 태그를 생성\n",
    "    \"\"\"\n",
    "    if cls is not None: # (3)\n",
    "        attrs[\"class\"] = cls\n",
    "    \n",
    "    if attrs: # (1)\n",
    "        attr_str = ''.join(f' {attr}=\"{value}\"' for attr, value in sorted(attrs.items()))\n",
    "    else:\n",
    "        attr_str = \"\"\n",
    "    \n",
    "    if content: # (2)\n",
    "        return '\\n'.join(f\"<{name}{attr_str}>{c}</{name}>\" for c in content)\n",
    "    else:\n",
    "        return f\"<{name}{attr_str} />\""
   ]
  },
  {
   "cell_type": "markdown",
   "metadata": {},
   "source": [
    "* positional argument (위치 인수) : 인수의 위치 또는 타입 (tuple -> `*` , dictionary -> `**`)으로 구분 "
   ]
  },
  {
   "cell_type": "code",
   "execution_count": 55,
   "metadata": {},
   "outputs": [
    {
     "data": {
      "text/plain": [
       "'<br />'"
      ]
     },
     "execution_count": 55,
     "metadata": {},
     "output_type": "execute_result"
    }
   ],
   "source": [
    "tag('br')"
   ]
  },
  {
   "cell_type": "markdown",
   "metadata": {},
   "source": [
    "* (2) `*` -> tuple argument\n",
    "    * 매개 변수에 `*`을 붙이면 해당 위치 이후의 모든 인수들을 모두 해당 매개 변수에 튜플로 전달함"
   ]
  },
  {
   "cell_type": "code",
   "execution_count": 56,
   "metadata": {},
   "outputs": [
    {
     "name": "stdout",
     "output_type": "stream",
     "text": [
      "<p>hello</p>\n",
      "<p>hello</p>\n",
      "<p>word</p>\n"
     ]
    }
   ],
   "source": [
    "print(tag('p','hello'))\n",
    "print(tag('p','hello','word'))"
   ]
  },
  {
   "cell_type": "markdown",
   "metadata": {},
   "source": [
    "* (1)`**`-> dictionary argument\n",
    "    * 매개 변수에 `**`을 붙이면 명시적으로 이름이 지정되지 않은 키워드 인수들을 딕셔너리로 받음"
   ]
  },
  {
   "cell_type": "code",
   "execution_count": 57,
   "metadata": {},
   "outputs": [
    {
     "name": "stdout",
     "output_type": "stream",
     "text": [
      "<p id=\"33\">hello</p>\n"
     ]
    }
   ],
   "source": [
    "print(tag('p','hello', id = 33))"
   ]
  },
  {
   "cell_type": "markdown",
   "metadata": {},
   "source": [
    "* (3)keyword argument (키워드 인수) : 인수의 key값으로 구분, **반드시 위치 인수 이후에 나와야 함**"
   ]
  },
  {
   "cell_type": "code",
   "execution_count": 58,
   "metadata": {},
   "outputs": [
    {
     "name": "stdout",
     "output_type": "stream",
     "text": [
      "<p class=\"sidebar\">hello</p>\n",
      "<p class=\"sidebar\">word</p>\n"
     ]
    }
   ],
   "source": [
    "print(tag('p','hello', 'word', cls = 'sidebar'))"
   ]
  },
  {
   "cell_type": "markdown",
   "metadata": {},
   "source": [
    "* 인수 앞에 `**`을 붙이면 딕셔너리 안의 모든 항목을 인수로 보냄"
   ]
  },
  {
   "cell_type": "code",
   "execution_count": 59,
   "metadata": {},
   "outputs": [
    {
     "name": "stdout",
     "output_type": "stream",
     "text": [
      "<img class=\"framed\" src=\"sunset.jpg\" title=\"Sunset\" />\n"
     ]
    }
   ],
   "source": [
    "my_tag = {'name' : 'img', 'title' : 'Sunset', 'src' : 'sunset.jpg', 'cls' : 'framed'}\n",
    "print(tag(**my_tag))"
   ]
  },
  {
   "cell_type": "markdown",
   "metadata": {},
   "source": [
    "* inspect 모듈을 이용해 함수의 매개 변수 정보 얻기\n",
    "    * kind 속성의 종류\n",
    "        * POSITIONAL_OR_KEYWORD : 위치 인수나 키워드 인수 (대부분이 여기에 속함)\n",
    "        * VAR_POSITIONAL : 위치 매개 변수인 튜플\n",
    "        * VAR_KEYWORD : 키워드 매개 변수인 딕셔너리 \n",
    "        * KEYWORD_ONLY : 키워드 전용 매개 변수 \n",
    "    * bind 메서드로 함수의 인수를 검증할 수 있음\n",
    "        * 실제 인터프리터가 함수 호출 시 인수를 매개 변수에 바인딩하는 방식"
   ]
  },
  {
   "cell_type": "code",
   "execution_count": 98,
   "metadata": {},
   "outputs": [
    {
     "name": "stdout",
     "output_type": "stream",
     "text": [
      "(name, *content, cls=None, **attrs)\n",
      "POSITIONAL_OR_KEYWORD  :  name = <class 'inspect._empty'>\n",
      "VAR_POSITIONAL  :  content = <class 'inspect._empty'>\n",
      "KEYWORD_ONLY  :  cls = None\n",
      "VAR_KEYWORD  :  attrs = <class 'inspect._empty'>\n"
     ]
    }
   ],
   "source": [
    "from inspect import signature\n",
    "\n",
    "sig = signature(tag) \n",
    "\n",
    "print(str(sig)) # 함수의 매개 변수를 출력\n",
    "\n",
    "for name, param in sig.parameters.items():\n",
    "    print(param.kind,\" : \",name, \"=\", param.default)"
   ]
  },
  {
   "cell_type": "code",
   "execution_count": 99,
   "metadata": {},
   "outputs": [
    {
     "data": {
      "text/plain": [
       "<BoundArguments (name='img', cls='framed', attrs={'title': 'Sunset', 'src': 'sunset.jpg'})>"
      ]
     },
     "execution_count": 99,
     "metadata": {},
     "output_type": "execute_result"
    }
   ],
   "source": [
    "bound_args = sig.bind(**my_tag)\n",
    "bound_args # my_tag를 tag 함수의 인수로 바인딩함 "
   ]
  },
  {
   "cell_type": "markdown",
   "metadata": {},
   "source": [
    "### function argument annotaition (함수 애너테이션)\n",
    "* python3는 매개 변수와 반환값에 메타 데이터 (annotation expression)를 추가할 수있는 구문을 제공"
   ]
  },
  {
   "cell_type": "code",
   "execution_count": 101,
   "metadata": {},
   "outputs": [],
   "source": [
    "def clip(text: str, max_len:'int > 0'=80) -> str: # (1)\n",
    "    \"\"\"\n",
    "    max_len 앞이나 뒤의 마지막 공백에서 잘라낸 텍스트를 반환한다. \n",
    "    \"\"\"\n",
    "    end = None\n",
    "    if len(text) > max_len:\n",
    "        space_before = text.rfind(' ', 0, max_len) # returns start index of the last occurence of the value\n",
    "        if space_before >= 0: # max_len 앞에서 공백을 찾음 \n",
    "            end = space_before\n",
    "        else: # max_len 앞에서 공백을 찾지 못함 \n",
    "            space_after = text.rfind(' ', max_len)\n",
    "            if space_after >=0: # max_len 뒤에서 공백을 찾음\n",
    "                end = space_after\n",
    "    \n",
    "    if end is None: # 공백이 없음\n",
    "        end = len(text)\n",
    "    return text[:end].rstrip()"
   ]
  },
  {
   "cell_type": "markdown",
   "metadata": {},
   "source": [
    "* (1)annotation expression\n",
    "    * parameter (매개 변수) : 매개변수는 콜론 (`:`) 뒤에 애너테이션 표현식을 추가 (ex. ':str', ':'value > 0')\n",
    "    * return value (반환값) : 반환값은 매개변수를 닫는 괄호 뒤, 함수 선언 가장 마지막의 콜론 (`:`) 사이에 `->` 기호를 쓴 후 애너테이션 표현식을 추가 (ex. '...) -> float:')"
   ]
  },
  {
   "cell_type": "code",
   "execution_count": 102,
   "metadata": {},
   "outputs": [
    {
     "data": {
      "text/plain": [
       "{'text': str, 'max_len': 'int > 0', 'return': str}"
      ]
     },
     "execution_count": 102,
     "metadata": {},
     "output_type": "execute_result"
    }
   ],
   "source": [
    "# 함수의 애너테이션 확인\n",
    "clip.__annotations__"
   ]
  },
  {
   "cell_type": "markdown",
   "metadata": {},
   "source": [
    "### package for functional programming (함수형 프로그래밍을 위한 패키지)\n",
    "* built-in module\n",
    "    * operator\n",
    "    * functools"
   ]
  },
  {
   "cell_type": "markdown",
   "metadata": {},
   "source": [
    "#### operator "
   ]
  },
  {
   "cell_type": "markdown",
   "metadata": {},
   "source": [
    "* itemgetter(indices)\n",
    "    * 시퀀스에서 항목을 가져옴\n",
    "    * callable function `itemgetter(indices)(obj)`\n",
    "    * lambda 대체 가능 \n",
    "    * `__getitem__` 속성을 가진 객체면 사용 가능"
   ]
  },
  {
   "cell_type": "code",
   "execution_count": 117,
   "metadata": {},
   "outputs": [
    {
     "name": "stdout",
     "output_type": "stream",
     "text": [
      "('JH', 'male', 27, 'data-scientist')\n",
      "('SJ', 'female', 25, 'programmer')\n",
      "('DW', 'male', 4, 'puppy')\n",
      "\n",
      "('JH', 'male', 27, 'data-scientist')\n",
      "('SJ', 'female', 25, 'programmer')\n",
      "('DW', 'male', 4, 'puppy')\n",
      "\n",
      "('SJ', 'programmer')\n",
      "('DW', 'puppy')\n",
      "('JH', 'data-scientist')\n"
     ]
    }
   ],
   "source": [
    "from operator import itemgetter\n",
    "\n",
    "member_data = [\n",
    "    ('SJ', 'female', 25, 'programmer'),\n",
    "    ('DW', 'male', 4, 'puppy'),\n",
    "    ('JH', 'male', 27, 'data-scientist')\n",
    "]\n",
    "\n",
    "for member in sorted(member_data, key=lambda x : x[2], reverse=True): # what I used to do using lambda \n",
    "    print(member)\n",
    "print()    \n",
    "\n",
    "for member in sorted(member_data, key=itemgetter(2), reverse=True): # new method using operator.itemgetter()\n",
    "    print(member)\n",
    "\n",
    "print()\n",
    "info_job = itemgetter(0,-1) # parameter = tuple of index\n",
    "for member in member_data:\n",
    "    print(info_job(member))"
   ]
  },
  {
   "cell_type": "markdown",
   "metadata": {},
   "source": [
    "* attrgetter(attributes)\n",
    "    * 속성을 가진 객체에서 속성을 가져옴\n",
    "    * callable function : `attrgetter(attributes)(obj)`"
   ]
  },
  {
   "cell_type": "code",
   "execution_count": 127,
   "metadata": {},
   "outputs": [
    {
     "data": {
      "text/plain": [
       "[BasicInfo(name='SJ', age=25, extra=ExtraInfo(gender='female', job='programmer')),\n",
       " BasicInfo(name='DW', age=4, extra=ExtraInfo(gender='male', job='puppy')),\n",
       " BasicInfo(name='JH', age=27, extra=ExtraInfo(gender='male', job='data-scientist'))]"
      ]
     },
     "execution_count": 127,
     "metadata": {},
     "output_type": "execute_result"
    }
   ],
   "source": [
    "from operator import attrgetter\n",
    "from collections import namedtuple\n",
    "\n",
    "BasicInfo = namedtuple('BasicInfo','name age extra')\n",
    "ExtraInfo = namedtuple('ExtraInfo', 'gender job')\n",
    "\n",
    "members = [BasicInfo(name, age, ExtraInfo(gender, job))\n",
    "              for name, gender, age, job in member_data]\n",
    "\n",
    "members"
   ]
  },
  {
   "cell_type": "code",
   "execution_count": 126,
   "metadata": {},
   "outputs": [
    {
     "name": "stdout",
     "output_type": "stream",
     "text": [
      "('JH', 'data-scientist')\n",
      "('SJ', 'programmer')\n",
      "('DW', 'puppy')\n"
     ]
    }
   ],
   "source": [
    "name_job = attrgetter('name', 'extra.job')\n",
    "\n",
    "for member in sorted(members, key=attrgetter('extra.job')): \n",
    "    print(name_job(member))"
   ]
  },
  {
   "cell_type": "markdown",
   "metadata": {},
   "source": [
    "* methodcaller(method name, `*args`, `**kwargs`)\n",
    "    * 객체의 메서드를 호출\n",
    "    * callable function : `methodcaller(method name)(obj)`"
   ]
  },
  {
   "cell_type": "code",
   "execution_count": 129,
   "metadata": {},
   "outputs": [
    {
     "name": "stdout",
     "output_type": "stream",
     "text": [
      "THE TIME HAS COME\n",
      "The-time-has-come\n"
     ]
    }
   ],
   "source": [
    "from operator import methodcaller\n",
    "\n",
    "s = 'The time has come'\n",
    "upcase = methodcaller('upper')\n",
    "print(upcase(s))\n",
    "\n",
    "hiphenate = methodcaller('replace', ' ', '-')\n",
    "print(hiphenate(s))\n",
    "\n"
   ]
  },
  {
   "cell_type": "markdown",
   "metadata": {},
   "source": [
    "#### functools"
   ]
  },
  {
   "cell_type": "markdown",
   "metadata": {},
   "source": [
    "* partial(func, `*args`, `**kwargs`)\n",
    "    * 원래 함수의 일부 인수를 특정 값으로 고정한 함수를 생성\n",
    "    * 하나 이상의 인수를 받는 함수를 그보다 적인 인수를 받는 콜백 함수(특정 함수에 인자로 입력되는 함수)로 만들어 API에 사용하고자 할 때 유용함"
   ]
  },
  {
   "cell_type": "code",
   "execution_count": 133,
   "metadata": {},
   "outputs": [
    {
     "name": "stdout",
     "output_type": "stream",
     "text": [
      "21\n",
      "[3, 6, 9, 12, 15, 18, 21, 24, 27]\n"
     ]
    }
   ],
   "source": [
    "from operator import mul\n",
    "from functools import partial\n",
    "\n",
    "triple = partial(mul, 3) # mul() 함수의 첫번째 인수를 3으로 바인딩해 triple이란 새로운 함수를 만든다\n",
    "print(triple(7))\n",
    "\n",
    "print(list(map(triple, range(1,10)))) # triple은 인수를 하나만 받는 콜백 함수 "
   ]
  },
  {
   "cell_type": "markdown",
   "metadata": {},
   "source": [
    "* 유니코드 정규화 방식\n",
    "    * nfc : Normalization Form Canonical Composition\n",
    "    * 문자열 유니코드 정규화가 필요한 이유 : [참고 url](https://velog.io/@leejh3224/%EB%B2%88%EC%97%AD-%EC%9C%A0%EB%8B%88%EC%BD%94%EB%93%9C-%EC%8A%A4%ED%8A%B8%EB%A7%81%EC%9D%84-%EB%85%B8%EB%A9%80%EB%9D%BC%EC%9D%B4%EC%A7%95-%ED%95%B4%EC%95%BC%ED%95%98%EB%8A%94-%EC%9D%B4%EC%9C%A0)"
   ]
  },
  {
   "cell_type": "code",
   "execution_count": 139,
   "metadata": {},
   "outputs": [
    {
     "name": "stdout",
     "output_type": "stream",
     "text": [
      "café café\n",
      "False\n",
      "True\n"
     ]
    }
   ],
   "source": [
    "import unicodedata\n",
    "\n",
    "nfc = partial(unicodedata.normalize, 'NFC')\n",
    "s1 = 'café'\n",
    "s2 = 'cafe\\u0301'\n",
    "print(s1, s2)\n",
    "print(s1 == s2)\n",
    "print(nfc(s1) == nfc(s2))"
   ]
  },
  {
   "cell_type": "code",
   "execution_count": null,
   "metadata": {},
   "outputs": [],
   "source": []
  }
 ],
 "metadata": {
  "kernelspec": {
   "display_name": "Python 3",
   "language": "python",
   "name": "python3"
  },
  "language_info": {
   "codemirror_mode": {
    "name": "ipython",
    "version": 3
   },
   "file_extension": ".py",
   "mimetype": "text/x-python",
   "name": "python",
   "nbconvert_exporter": "python",
   "pygments_lexer": "ipython3",
   "version": "3.6.9"
  },
  "toc": {
   "base_numbering": 1,
   "nav_menu": {},
   "number_sections": true,
   "sideBar": true,
   "skip_h1_title": false,
   "title_cell": "Table of Contents",
   "title_sidebar": "Contents",
   "toc_cell": false,
   "toc_position": {
    "height": "calc(100% - 180px)",
    "left": "10px",
    "top": "150px",
    "width": "298.011px"
   },
   "toc_section_display": true,
   "toc_window_display": true
  }
 },
 "nbformat": 4,
 "nbformat_minor": 4
}
