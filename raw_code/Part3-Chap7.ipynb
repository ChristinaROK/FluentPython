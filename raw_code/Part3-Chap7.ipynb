{
 "cells": [
  {
   "cell_type": "markdown",
   "metadata": {},
   "source": [
    "# Part3: Function as object (객체로서의 함수)\n",
    "> 현재 Fluent Python 을 공부하고, 파트별로 핵심 내용을 정리하고 있다.   \n",
    "> 오늘은 세번째 파트인 (first-class function)일급 객체로서의 함수에 대해 알아본다. "
   ]
  },
  {
   "cell_type": "markdown",
   "metadata": {},
   "source": [
    "## Chapter7: Function Decorator and Closure (함수 데커레이터와 클로져)\n"
   ]
  },
  {
   "cell_type": "markdown",
   "metadata": {},
   "source": [
    "### decorator (데커레이터)\n",
    "* 정의 : 다른 함수를 인수로 받는 콜러블(=decorated function)\n",
    "* 역할 : 데커레이트된 함수(=decorated function)에 특정한 처리를 수행하고 함수를 반환하거나 함수를 다른 함수나 콜러블 객체로 대체함\n",
    "* 예시 : decorate이란 이름의 데커레이터가 있다고 가정할 때, method1과 method2는 동일한 함수\n",
    "\n",
    "```python\n",
    "# method1\n",
    "@decorate\n",
    "def target():\n",
    "    print(f\"running target()!\")\n",
    "\n",
    "#method2\n",
    "decorate(target)\n",
    "```\n",
    "* 실행 시간\n",
    "    * 데커레이터(ex. decorate())가 실행되는 시간 : **임포트타임**\n",
    "    * 데커레이트된 함수(decorated function ex. target())가 실행되는 시간 : **런타임**에서 명시적으로 함수가 호출될 때 실행"
   ]
  },
  {
   "cell_type": "code",
   "execution_count": 3,
   "metadata": {},
   "outputs": [],
   "source": [
    "def deco(func):\n",
    "    def inner():\n",
    "        print('running inner()')\n",
    "    return inner # (1)\n",
    "\n",
    "@deco\n",
    "def target():\n",
    "    print('running target()')"
   ]
  },
  {
   "cell_type": "markdown",
   "metadata": {},
   "source": [
    "* (1) deco 함수는 inner() 함수의 객체를 반환함. 따라서 데커레이트 된 target() 함수를 호출하면 inner() 함수를 호출함   \n",
    "  즉, 데커레이터는 함수를 다른 함수로 대체할 수 있음"
   ]
  },
  {
   "cell_type": "code",
   "execution_count": 8,
   "metadata": {},
   "outputs": [
    {
     "name": "stdout",
     "output_type": "stream",
     "text": [
      "running inner()\n",
      "None\n"
     ]
    },
    {
     "data": {
      "text/plain": [
       "<function __main__.deco.<locals>.inner()>"
      ]
     },
     "execution_count": 8,
     "metadata": {},
     "output_type": "execute_result"
    }
   ],
   "source": [
    "print(target()) \n",
    "\n",
    "target # target 함수는 inner()을 가리키고 있음"
   ]
  },
  {
   "cell_type": "markdown",
   "metadata": {},
   "source": [
    "### Improve strategy pattern with decorater (전략 패턴을 데커레이터로 개선하기)"
   ]
  },
  {
   "cell_type": "code",
   "execution_count": 9,
   "metadata": {},
   "outputs": [],
   "source": [
    "from collections import namedtuple\n",
    "\n",
    "Customer = namedtuple('Customer', 'name fidelity') # client\n",
    "\n",
    "class LineItem:\n",
    "    \n",
    "    def __init__(self, product, quantity, price):\n",
    "        self.product = product\n",
    "        self.quantity = quantity\n",
    "        self.price = price\n",
    "    \n",
    "    \n",
    "    def total(self):\n",
    "        return self.price * self.quantity\n",
    "\n",
    "\n",
    "class Order: # context\n",
    "    \n",
    "    def __init__(self, customer, cart, promotion=None):\n",
    "        self.customer = customer\n",
    "        self.cart = list(cart) ## \n",
    "        self.promotion = promotion\n",
    "    \n",
    "    def total(self):\n",
    "        if not hasattr(self, '_total'):\n",
    "            self._total = sum(item.total() for item in self.cart)\n",
    "        return self._total\n",
    "    \n",
    "    \n",
    "    def due(self):\n",
    "        if self.promotion is None:\n",
    "            discount = 0\n",
    "        else:\n",
    "            discount = self.promotion(self) # 개별 함수를 호출(인수로 self를 갖는)\n",
    "        return self.total() - discount\n",
    "    \n",
    "    \n",
    "    def __repr__(self):\n",
    "        return f'<Order total : {self.total():,.0f} due : {self.due():,.0f}>'"
   ]
  },
  {
   "cell_type": "code",
   "execution_count": 10,
   "metadata": {},
   "outputs": [],
   "source": [
    "promos = []\n",
    "\n",
    "def promotion(promo_func):\n",
    "    promos.append(promo_func)\n",
    "    return promo_func # (1)\n",
    "\n",
    "@promotion # (2)\n",
    "def fidelity_promo(order): # Specific Strategy 1\n",
    "    \"\"\"충성도 포인트가 1000점 이상인 고객에게 전체 5% 할인 적용\"\"\"\n",
    "    return order.total() *.05 if order.customer.fidelity >= 1000 else 0\n",
    "\n",
    "@promotion\n",
    "def bulk_item_promo(order): # Specific Strategy 2\n",
    "    \"\"\"20개 이상의 동일 상품을 구입하면 해당 상품에 대해 10% 할인 적용\"\"\"\n",
    "    discount = 0\n",
    "    for item in order.cart:\n",
    "        if item.quantity >= 20:\n",
    "            discount += item.total() * .1\n",
    "    return discount\n",
    "\n",
    "@promotion\n",
    "def large_order_promo(order): # Specific Strategy 3\n",
    "    \"\"\"서로 다른 상품을 10종류 이상 주문하면 전체 주문에 대해 7% 할인 적용\"\"\"\n",
    "    unique_item = set(item.product for item in order.cart)\n",
    "    if len(unique_item) >= 10:\n",
    "        return order.total() * .07\n",
    "    return 0\n",
    "\n",
    "def best_promo(order):\n",
    "    \"\"\"최대로 할인받을 금액을 반환\"\"\"\n",
    "    return max(promo(order) for promo in promos)"
   ]
  },
  {
   "cell_type": "markdown",
   "metadata": {},
   "source": [
    "* (1) 등록 데커레이터 : 인수로 들어온 콜백 함수를 다시 반환 함\n",
    "* (2) promotion 데커레이터를 이용하면, *_promo 함수가 새로 생성될때마다 `promos` 리스트에 수동으로 등록해야됐던 한계를 극복   \n",
    "  임포트타임에 promotion 데커레이터를 갖는 모든 함수가 `promos` 리스트에 입력됨 \n",
    "* 이전 방법들 (ex.`globals()`사용 , `inspector.getmembers()`사용 / `Part3-Chap6` 참고)과 비교했을 때 장점:\n",
    "    * 함수 이름이 자유로움. 굳이 *_promo로 끝나지 않아도 됨\n",
    "    * 함수가 다른 모듈에서 정의되도 됨. @promotion 데커레이터만 붙이면 됨"
   ]
  },
  {
   "cell_type": "markdown",
   "metadata": {},
   "source": [
    "### 변수 범위 규칙"
   ]
  },
  {
   "cell_type": "markdown",
   "metadata": {},
   "source": [
    "* 함수 외부\n",
    "    * 모든 변수는 전역 변수 취급\n",
    "    * 단, 함수 내부에 같은 변수명이 사용될 시, 함수 내부에서는 지역 변수로 취급"
   ]
  },
  {
   "cell_type": "code",
   "execution_count": 15,
   "metadata": {},
   "outputs": [
    {
     "name": "stdout",
     "output_type": "stream",
     "text": [
      "3\n",
      "6\n"
     ]
    }
   ],
   "source": [
    "# b <- global variable\n",
    "def f1(a):\n",
    "    print(a)\n",
    "    print(b)\n",
    "    \n",
    "b = 6\n",
    "f1(3)  "
   ]
  },
  {
   "cell_type": "code",
   "execution_count": 16,
   "metadata": {},
   "outputs": [
    {
     "name": "stdout",
     "output_type": "stream",
     "text": [
      "3\n"
     ]
    },
    {
     "ename": "UnboundLocalError",
     "evalue": "local variable 'b' referenced before assignment",
     "output_type": "error",
     "traceback": [
      "\u001b[0;31m---------------------------------------------------------------------------\u001b[0m",
      "\u001b[0;31mUnboundLocalError\u001b[0m                         Traceback (most recent call last)",
      "\u001b[0;32m<ipython-input-16-dceb2dd95705>\u001b[0m in \u001b[0;36m<module>\u001b[0;34m\u001b[0m\n\u001b[1;32m      5\u001b[0m \u001b[0;34m\u001b[0m\u001b[0m\n\u001b[1;32m      6\u001b[0m \u001b[0mb\u001b[0m \u001b[0;34m=\u001b[0m \u001b[0;36m6\u001b[0m\u001b[0;34m\u001b[0m\u001b[0;34m\u001b[0m\u001b[0m\n\u001b[0;32m----> 7\u001b[0;31m \u001b[0mf1\u001b[0m\u001b[0;34m(\u001b[0m\u001b[0;36m3\u001b[0m\u001b[0;34m)\u001b[0m\u001b[0;34m\u001b[0m\u001b[0;34m\u001b[0m\u001b[0m\n\u001b[0m",
      "\u001b[0;32m<ipython-input-16-dceb2dd95705>\u001b[0m in \u001b[0;36mf1\u001b[0;34m(a)\u001b[0m\n\u001b[1;32m      1\u001b[0m \u001b[0;32mdef\u001b[0m \u001b[0mf1\u001b[0m\u001b[0;34m(\u001b[0m\u001b[0ma\u001b[0m\u001b[0;34m)\u001b[0m\u001b[0;34m:\u001b[0m\u001b[0;34m\u001b[0m\u001b[0;34m\u001b[0m\u001b[0m\n\u001b[1;32m      2\u001b[0m     \u001b[0mprint\u001b[0m\u001b[0;34m(\u001b[0m\u001b[0ma\u001b[0m\u001b[0;34m)\u001b[0m\u001b[0;34m\u001b[0m\u001b[0;34m\u001b[0m\u001b[0m\n\u001b[0;32m----> 3\u001b[0;31m     \u001b[0mprint\u001b[0m\u001b[0;34m(\u001b[0m\u001b[0mb\u001b[0m\u001b[0;34m)\u001b[0m\u001b[0;34m\u001b[0m\u001b[0;34m\u001b[0m\u001b[0m\n\u001b[0m\u001b[1;32m      4\u001b[0m     \u001b[0mb\u001b[0m \u001b[0;34m=\u001b[0m \u001b[0;36m9\u001b[0m\u001b[0;34m\u001b[0m\u001b[0;34m\u001b[0m\u001b[0m\n\u001b[1;32m      5\u001b[0m \u001b[0;34m\u001b[0m\u001b[0m\n",
      "\u001b[0;31mUnboundLocalError\u001b[0m: local variable 'b' referenced before assignment"
     ]
    }
   ],
   "source": [
    "# b <- local variable\n",
    "def f1(a):\n",
    "    print(a)\n",
    "    print(b)\n",
    "    b = 9 # 파이썬 인터프리터가 b를 지역 변수로 취급\n",
    "    \n",
    "b = 6\n",
    "f1(3) "
   ]
  },
  {
   "cell_type": "markdown",
   "metadata": {},
   "source": [
    "* 함수 내부\n",
    "    * 파이썬은 함수 내의 변수는 지역 변수로 여김. 전역 변수로 사용하기위해서는 전역 변수로 선언(`global`)해야 함"
   ]
  },
  {
   "cell_type": "code",
   "execution_count": 14,
   "metadata": {},
   "outputs": [
    {
     "name": "stdout",
     "output_type": "stream",
     "text": [
      "3\n",
      "6\n",
      "3\n",
      "9\n"
     ]
    }
   ],
   "source": [
    "b = 6\n",
    "def f(a):\n",
    "    global b\n",
    "    print(a)\n",
    "    print(b)\n",
    "    b = 9\n",
    "f(3)\n",
    "f(3)"
   ]
  },
  {
   "cell_type": "markdown",
   "metadata": {},
   "source": [
    "### closure (클로저)\n",
    "* 정의 : 어떤 함수가 다른 함수 내부에 선언됐을 때, 외부 함수의 변수는 **자유 변수**, 즉 전역 변수처럼 다룰 수 있게 됨  \n",
    "  (이를 제외하고는 함수 내부의 변수는 모두 지역 변수 취급)\n",
    "* 용도 : 데커레이터 함수에서 변수를 클로저에 저장해 데커레이터의 내부 함수에서도 그 변수를 사용할 수 있도록 만듦 "
   ]
  },
  {
   "cell_type": "code",
   "execution_count": 43,
   "metadata": {},
   "outputs": [],
   "source": [
    "class Averager: # (1)\n",
    "    \n",
    "    def __init__(self):\n",
    "        self.series = []\n",
    "    \n",
    "    \n",
    "    def __call__(self, new_value):\n",
    "        self.series.append(new_value)\n",
    "        total = sum(self.series)\n",
    "        return total / len(self.series)\n",
    "\n",
    "    \n",
    "def make_averager(): # (2)\n",
    "    series = [] # (3)\n",
    "    ##### closure #####\n",
    "    def averager(new_value):\n",
    "        series.append(new_value)\n",
    "        total = sum(series)\n",
    "        return total / len(series)\n",
    "    \n",
    "    return averager"
   ]
  },
  {
   "cell_type": "markdown",
   "metadata": {},
   "source": [
    "* (1) 이동 평균을 계산하는 __클래스__ \n",
    "* (2) 이동 평균(일정하게 변하는 값의 평균)을 계산하는 __고위 함수__\n",
    "* (3) 자유 변수 (free variable) : 지역 범위에 바인딩 되어 있지 않은 변수. \n",
    "    * 함수 내부의 변수(series)를 전역 변수처럼 사용할 수 있는 것이 특징."
   ]
  },
  {
   "cell_type": "code",
   "execution_count": 44,
   "metadata": {},
   "outputs": [
    {
     "name": "stdout",
     "output_type": "stream",
     "text": [
      "10.0\n",
      "10.5\n",
      "11.0\n",
      "\n",
      "10.0\n",
      "10.5\n",
      "11.0\n"
     ]
    }
   ],
   "source": [
    "# 같은 결과 값을 냄\n",
    "avg = Averager()\n",
    "print(avg(10))\n",
    "print(avg(11))\n",
    "print(avg(12))\n",
    "print()\n",
    "\n",
    "avg = make_averager()\n",
    "print(avg(10))\n",
    "print(avg(11))\n",
    "print(avg(12))"
   ]
  },
  {
   "cell_type": "code",
   "execution_count": 30,
   "metadata": {},
   "outputs": [
    {
     "name": "stdout",
     "output_type": "stream",
     "text": [
      "('new_value', 'total')\n",
      "('series',)\n"
     ]
    }
   ],
   "source": [
    "print(avg.__code__.co_varnames) # 지역 변수\n",
    "print(avg.__code__.co_freevars) # 자유 변수"
   ]
  },
  {
   "cell_type": "markdown",
   "metadata": {},
   "source": [
    "* 자유 변수의 값을 `__closure__`속성에서 찾기"
   ]
  },
  {
   "cell_type": "code",
   "execution_count": 33,
   "metadata": {},
   "outputs": [
    {
     "data": {
      "text/plain": [
       "[10, 11, 12]"
      ]
     },
     "execution_count": 33,
     "metadata": {},
     "output_type": "execute_result"
    }
   ],
   "source": [
    "avg.__closure__[0].cell_contents"
   ]
  },
  {
   "cell_type": "markdown",
   "metadata": {},
   "source": [
    "### nonlocal \n",
    "* 정의 : nonlocal로 선언된 변수는 함수 안에서 값을 재할당 받더라도 자유 변수의 특징을 유지함\n",
    "* 용도 : 불변형의 변수가 함수 내에서 재할당될 때 자유 변수의 속성을 유지하기위해 이 변수 앞에 nonlocal을 붙임\n"
   ]
  },
  {
   "cell_type": "code",
   "execution_count": 52,
   "metadata": {},
   "outputs": [],
   "source": [
    "def make_average():\n",
    "    count = 0\n",
    "    total = 0\n",
    "    \n",
    "    def averager(new_value):\n",
    "        count+=1 # (1)\n",
    "        total+=new_value # (1)\n",
    "        return total / count\n",
    "    return averager"
   ]
  },
  {
   "cell_type": "code",
   "execution_count": 53,
   "metadata": {},
   "outputs": [
    {
     "ename": "UnboundLocalError",
     "evalue": "local variable 'count' referenced before assignment",
     "output_type": "error",
     "traceback": [
      "\u001b[0;31m---------------------------------------------------------------------------\u001b[0m",
      "\u001b[0;31mUnboundLocalError\u001b[0m                         Traceback (most recent call last)",
      "\u001b[0;32m<ipython-input-53-be3152f359be>\u001b[0m in \u001b[0;36m<module>\u001b[0;34m\u001b[0m\n\u001b[1;32m      1\u001b[0m \u001b[0mavg\u001b[0m \u001b[0;34m=\u001b[0m \u001b[0mmake_average\u001b[0m\u001b[0;34m(\u001b[0m\u001b[0;34m)\u001b[0m\u001b[0;34m\u001b[0m\u001b[0;34m\u001b[0m\u001b[0m\n\u001b[0;32m----> 2\u001b[0;31m \u001b[0mavg\u001b[0m\u001b[0;34m(\u001b[0m\u001b[0;36m1\u001b[0m\u001b[0;34m)\u001b[0m\u001b[0;34m\u001b[0m\u001b[0;34m\u001b[0m\u001b[0m\n\u001b[0m",
      "\u001b[0;32m<ipython-input-52-447248c572ed>\u001b[0m in \u001b[0;36maverager\u001b[0;34m(new_value)\u001b[0m\n\u001b[1;32m      4\u001b[0m \u001b[0;34m\u001b[0m\u001b[0m\n\u001b[1;32m      5\u001b[0m     \u001b[0;32mdef\u001b[0m \u001b[0maverager\u001b[0m\u001b[0;34m(\u001b[0m\u001b[0mnew_value\u001b[0m\u001b[0;34m)\u001b[0m\u001b[0;34m:\u001b[0m\u001b[0;34m\u001b[0m\u001b[0;34m\u001b[0m\u001b[0m\n\u001b[0;32m----> 6\u001b[0;31m         \u001b[0mcount\u001b[0m\u001b[0;34m+=\u001b[0m\u001b[0;36m1\u001b[0m \u001b[0;31m# (1)\u001b[0m\u001b[0;34m\u001b[0m\u001b[0;34m\u001b[0m\u001b[0m\n\u001b[0m\u001b[1;32m      7\u001b[0m         \u001b[0mtotal\u001b[0m\u001b[0;34m+=\u001b[0m\u001b[0mnew_value\u001b[0m \u001b[0;31m# (1)\u001b[0m\u001b[0;34m\u001b[0m\u001b[0;34m\u001b[0m\u001b[0m\n\u001b[1;32m      8\u001b[0m         \u001b[0;32mreturn\u001b[0m \u001b[0mtotal\u001b[0m \u001b[0;34m/\u001b[0m \u001b[0mcount\u001b[0m\u001b[0;34m\u001b[0m\u001b[0;34m\u001b[0m\u001b[0m\n",
      "\u001b[0;31mUnboundLocalError\u001b[0m: local variable 'count' referenced before assignment"
     ]
    }
   ],
   "source": [
    "avg = make_average()\n",
    "avg(1)"
   ]
  },
  {
   "cell_type": "markdown",
   "metadata": {},
   "source": [
    "* make_average 함수가 new_value의 값을 저장하는 것은 비효율적이기 때문에 \"누적합\"과 \"개수\"를 저장하도록 수정\n",
    "* (1) 잘못된 함수 : count변수는 불변형인데, 값을 **재할당**하는 연산 때문에 이 변수는 지역 변수 취급 됨. 즉 count 변수가 클로저에 저장되지 않음"
   ]
  },
  {
   "cell_type": "code",
   "execution_count": 58,
   "metadata": {},
   "outputs": [],
   "source": [
    "def make_average():\n",
    "    count = 0\n",
    "    total = 0\n",
    "    \n",
    "    def averager(new_value):\n",
    "        nonlocal count, total # (1)\n",
    "        count+=1 \n",
    "        total+=new_value \n",
    "        return total / count\n",
    "    return averager"
   ]
  },
  {
   "cell_type": "code",
   "execution_count": 61,
   "metadata": {},
   "outputs": [
    {
     "name": "stdout",
     "output_type": "stream",
     "text": [
      "1.0\n",
      "1.5\n"
     ]
    }
   ],
   "source": [
    "avg = make_average()\n",
    "print(avg(1))\n",
    "print(avg(2))"
   ]
  },
  {
   "cell_type": "markdown",
   "metadata": {},
   "source": [
    "* (1) nonlocal을 이용해 자유 변수 특징을 유지하기"
   ]
  },
  {
   "cell_type": "markdown",
   "metadata": {},
   "source": [
    "### 데커레이터 구현 (클로저를 이용)\n",
    "* 전형적인 데커레이터 작동 방식\n",
    "    * 데커레이트된 함수(ex. snooze, factorial)를 동일한 인수를 받는 다른 함수(clocked)로 교체\n",
    "    * 추가적인 처리를 수행 (ex. 연산 소요 시간 측정)\n",
    "    * 데커레이트된 함수가 반환해야하는 값을 반환 (ex. `return result`)"
   ]
  },
  {
   "cell_type": "code",
   "execution_count": 125,
   "metadata": {},
   "outputs": [],
   "source": [
    "import time\n",
    "\n",
    "def clock(func):\n",
    "    def clocked(*args):\n",
    "        t0 = time.perf_counter()\n",
    "        result = func(*args) # (1)\n",
    "        elapsed = time.perf_counter() - t0\n",
    "        name = func.__name__\n",
    "        arg_str = \",\".join(repr(arg) for arg in args)\n",
    "        print(f\"[{elapsed:0.8f}] {name}({arg_str}) -> {result}\")\n",
    "        return result\n",
    "    return clocked #(2)"
   ]
  },
  {
   "cell_type": "markdown",
   "metadata": {},
   "source": [
    "* (1) `func`는 자유 변수\n",
    "* (2) 데커레이트된 함수 (아래 함수)의 반환값을 내부 함수로 대체함"
   ]
  },
  {
   "cell_type": "code",
   "execution_count": 126,
   "metadata": {},
   "outputs": [
    {
     "name": "stdout",
     "output_type": "stream",
     "text": [
      "[0.12320990] snooze(0.123) -> None\n",
      "****************************************\n",
      "[0.00000113] factorial(1) -> 1\n",
      "[0.00006259] factorial(2) -> 2\n",
      "[0.00010673] factorial(3) -> 6\n",
      "[0.00015059] factorial(4) -> 24\n",
      "[0.00019386] factorial(5) -> 120\n",
      "[0.00023738] factorial(6) -> 720\n"
     ]
    },
    {
     "data": {
      "text/plain": [
       "720"
      ]
     },
     "execution_count": 126,
     "metadata": {},
     "output_type": "execute_result"
    }
   ],
   "source": [
    "@clock\n",
    "def snooze(seconds):\n",
    "    time.sleep(seconds)\n",
    "\n",
    "@clock\n",
    "def factorial(n):\n",
    "    return 1 if n<2 else n * factorial(n-1)\n",
    "\n",
    "snooze(.123)\n",
    "print(\"*\"*40)\n",
    "factorial(6) # (1)"
   ]
  },
  {
   "cell_type": "markdown",
   "metadata": {},
   "source": [
    "* (1) factorial 함수가   \n",
    "\n",
    "    ```python\n",
    "    def factorial(n):\n",
    "        return 1 if n<2 else n*f(n-1)\n",
    "    \n",
    "    ```\n",
    "    \n",
    "    일 때, clock 데커레이트된 factorial함수는 factorial = clock(factorial) 로 표현 가능함.   \n",
    "    clock 데커레이터 함수는 clocked 함수를 반환하기 때문에   \n",
    "    factorial == clock(factorial) == clocked 임.      \n",
    "    즉, **factorial == clocked**"
   ]
  },
  {
   "cell_type": "code",
   "execution_count": 128,
   "metadata": {},
   "outputs": [
    {
     "name": "stdout",
     "output_type": "stream",
     "text": [
      "clocked\n",
      "clocked\n"
     ]
    }
   ],
   "source": [
    "# (1)의 증명\n",
    "print(snooze.__name__)\n",
    "print(factorial.__name__)"
   ]
  },
  {
   "cell_type": "code",
   "execution_count": 130,
   "metadata": {},
   "outputs": [],
   "source": [
    "import time\n",
    "import functools\n",
    "\n",
    "def clock(func):\n",
    "    @functools.wraps(func) # (1)\n",
    "    def clocked(*args, **kwargs): # (2)\n",
    "        t0 = time.perf_counter()\n",
    "        result = func(*args, **kwargs) \n",
    "        elapsed = time.perf_counter() - t0\n",
    "        name = func.__name__\n",
    "        arg_list = []\n",
    "        if args:\n",
    "            arg_list.append(\",\".join(repr(arg) for arg in args))\n",
    "        if kwargs:\n",
    "            pairs = [f\"{k}={w}\" for k,w in sorted(kwargs.items())]\n",
    "            arg_list.append(\",\".join(pairs))\n",
    "        arg_str=\",\".join(arg_list)\n",
    "        print(f\"[{elapsed:0.8f}] {name}({arg_str}) -> {result}\")\n",
    "        return result\n",
    "    return clocked "
   ]
  },
  {
   "cell_type": "markdown",
   "metadata": {},
   "source": [
    "* 함수 리펙토링\n",
    "    * (1) built-in 라이브러리 데코레이터를 사용해 데커레이트된 함수 (ex. snooze)의 `__name__`, `__doc__` 속성을 clocked에 복사\n",
    "    * (2) keyword argument도 처리 가능"
   ]
  },
  {
   "cell_type": "code",
   "execution_count": 131,
   "metadata": {},
   "outputs": [
    {
     "name": "stdout",
     "output_type": "stream",
     "text": [
      "[0.61569073] snooze(0.123,multiply=5) -> None\n"
     ]
    }
   ],
   "source": [
    "# (1)\n",
    "@clock\n",
    "def snooze(seconds, multiply=1):\n",
    "    time.sleep(seconds * multiply)\n",
    "\n",
    "snooze(.123, multiply = 5)"
   ]
  },
  {
   "cell_type": "code",
   "execution_count": 134,
   "metadata": {},
   "outputs": [
    {
     "name": "stdout",
     "output_type": "stream",
     "text": [
      "snooze\n"
     ]
    }
   ],
   "source": [
    "# (2)\n",
    "print(snooze.__name__)"
   ]
  },
  {
   "cell_type": "markdown",
   "metadata": {},
   "source": [
    "### 표준 라이브버리에서 제공하는 데커레이터\n",
    "* 종류 \n",
    "    * classmethod()\n",
    "    * staticmethod()\n",
    "    * property()\n",
    "    * functools.wrap()\n",
    "    * functools.lru_cache()\n",
    "    * functools.singledispatch()"
   ]
  },
  {
   "cell_type": "markdown",
   "metadata": {},
   "source": [
    "#### functools.lru_cache()\n",
    "* 명칭 : Least Recently Used. 즉, 오랫동안 사용하지 않은 항목을 버림\n",
    "* 용도 : memoization(메모이제이션)을 구현. 즉, **이전에 실행한 값비싼 함수의 결과를 저장**해 이전에 사용된 인수에 대해 다시 계산하지 않게 하여 캐시를 효율적으로 사용. 웹에서 정보를 가져올 때도 유용"
   ]
  },
  {
   "cell_type": "code",
   "execution_count": 138,
   "metadata": {
    "scrolled": true
   },
   "outputs": [
    {
     "name": "stdout",
     "output_type": "stream",
     "text": [
      "[0.00000117] fibonacci(0) -> 0\n",
      "[0.00000128] fibonacci(1) -> 1\n",
      "[0.00024098] fibonacci(2) -> 1\n",
      "[0.00000098] fibonacci(1) -> 1\n",
      "[0.00000098] fibonacci(0) -> 0\n",
      "[0.00000089] fibonacci(1) -> 1\n",
      "[0.00008757] fibonacci(2) -> 1\n",
      "[0.00017466] fibonacci(3) -> 2\n",
      "[0.00050404] fibonacci(4) -> 3\n",
      "[0.00000088] fibonacci(1) -> 1\n",
      "[0.00000088] fibonacci(0) -> 0\n",
      "[0.00000084] fibonacci(1) -> 1\n",
      "[0.00009000] fibonacci(2) -> 1\n",
      "[0.00017411] fibonacci(3) -> 2\n",
      "[0.00000075] fibonacci(0) -> 0\n",
      "[0.00000082] fibonacci(1) -> 1\n",
      "[0.00008516] fibonacci(2) -> 1\n",
      "[0.00000084] fibonacci(1) -> 1\n",
      "[0.00000098] fibonacci(0) -> 0\n",
      "[0.00000082] fibonacci(1) -> 1\n",
      "[0.00008604] fibonacci(2) -> 1\n",
      "[0.00016938] fibonacci(3) -> 2\n",
      "[0.00033643] fibonacci(4) -> 3\n",
      "[0.00059457] fibonacci(5) -> 5\n",
      "[0.00122175] fibonacci(6) -> 8\n",
      "[0.00000077] fibonacci(1) -> 1\n",
      "[0.00000082] fibonacci(0) -> 0\n",
      "[0.00000081] fibonacci(1) -> 1\n",
      "[0.00008427] fibonacci(2) -> 1\n",
      "[0.00016892] fibonacci(3) -> 2\n",
      "[0.00000076] fibonacci(0) -> 0\n",
      "[0.00000082] fibonacci(1) -> 1\n",
      "[0.00008376] fibonacci(2) -> 1\n",
      "[0.00000079] fibonacci(1) -> 1\n",
      "[0.00000083] fibonacci(0) -> 0\n",
      "[0.00000080] fibonacci(1) -> 1\n",
      "[0.00008746] fibonacci(2) -> 1\n",
      "[0.00021359] fibonacci(3) -> 2\n",
      "[0.00038202] fibonacci(4) -> 3\n",
      "[0.00063648] fibonacci(5) -> 5\n",
      "[0.00000080] fibonacci(0) -> 0\n",
      "[0.00000082] fibonacci(1) -> 1\n",
      "[0.00008319] fibonacci(2) -> 1\n",
      "[0.00000083] fibonacci(1) -> 1\n",
      "[0.00000094] fibonacci(0) -> 0\n",
      "[0.00000087] fibonacci(1) -> 1\n",
      "[0.00008406] fibonacci(2) -> 1\n",
      "[0.00021413] fibonacci(3) -> 2\n",
      "[0.00038152] fibonacci(4) -> 3\n",
      "[0.00000072] fibonacci(1) -> 1\n",
      "[0.00000089] fibonacci(0) -> 0\n",
      "[0.00000095] fibonacci(1) -> 1\n",
      "[0.00008349] fibonacci(2) -> 1\n",
      "[0.00016719] fibonacci(3) -> 2\n",
      "[0.00000079] fibonacci(0) -> 0\n",
      "[0.00000083] fibonacci(1) -> 1\n",
      "[0.00008379] fibonacci(2) -> 1\n",
      "[0.00000075] fibonacci(1) -> 1\n",
      "[0.00000130] fibonacci(0) -> 0\n",
      "[0.00000085] fibonacci(1) -> 1\n",
      "[0.00008747] fibonacci(2) -> 1\n",
      "[0.00017136] fibonacci(3) -> 2\n",
      "[0.00033728] fibonacci(4) -> 3\n",
      "[0.00058641] fibonacci(5) -> 5\n",
      "[0.00104886] fibonacci(6) -> 8\n",
      "[0.00176642] fibonacci(7) -> 13\n",
      "[0.00307235] fibonacci(8) -> 21\n",
      "21\n"
     ]
    }
   ],
   "source": [
    "@clock\n",
    "def fibonacci(n):\n",
    "    if n<2:\n",
    "        return n\n",
    "    return fibonacci(n-2) + fibonacci(n-1)\n",
    "\n",
    "print(fibonacci(8))"
   ]
  },
  {
   "cell_type": "code",
   "execution_count": 139,
   "metadata": {},
   "outputs": [
    {
     "name": "stdout",
     "output_type": "stream",
     "text": [
      "[0.00000124] fibonacci(0) -> 0\n",
      "[0.00000117] fibonacci(1) -> 1\n",
      "[0.00024840] fibonacci(2) -> 1\n",
      "[0.00000257] fibonacci(3) -> 2\n",
      "[0.00035040] fibonacci(4) -> 3\n",
      "[0.00000121] fibonacci(5) -> 5\n",
      "[0.00041351] fibonacci(6) -> 8\n",
      "[0.00000111] fibonacci(7) -> 13\n",
      "[0.00047443] fibonacci(8) -> 21\n",
      "21\n"
     ]
    }
   ],
   "source": [
    "import functools\n",
    "\n",
    "@functools.lru_cache() # (1)\n",
    "@clock\n",
    "def fibonacci(n):\n",
    "    if n<2:\n",
    "        return n\n",
    "    return fibonacci(n-2) + fibonacci(n-1)\n",
    "\n",
    "print(fibonacci(8))"
   ]
  },
  {
   "cell_type": "markdown",
   "metadata": {},
   "source": [
    "* (1) 데커레이터에 인수 존재   \n",
    "    ```functools.lru_cache(maxsize=128, type=False)```\n",
    "    * maxsize: 얼마나 많은 호출을 할 것인가 (2의 제곱수)\n",
    "    * type: 인수의 자료형이 다르면 결과도 다르게 저장할 것인가\n",
    "* 주의 : functools.lru_cache() 데커레이트 된 함수의 인수는 반드시 **해시가능** 해야 함 "
   ]
  },
  {
   "cell_type": "markdown",
   "metadata": {},
   "source": [
    "#### functools.singledispatch()\n",
    "* 용도: 파이썬은 오버로딩을 지원하지 않아, 인수의 종류에 따라 서로 다른 시그니처를 가진 함수를 만들 수 없음      \n",
    "    하지만 functools.singledispatch()로 데커레이트 된 범용 함수(generic function)는 첫 번째 인수의 자료형에 따라 서로 다른 알고리즘을 수행"
   ]
  },
  {
   "cell_type": "code",
   "execution_count": 159,
   "metadata": {},
   "outputs": [],
   "source": [
    "from functools import singledispatch\n",
    "from collections import abc\n",
    "import numbers\n",
    "import html\n",
    "\n",
    "@singledispatch\n",
    "def htmlize(obj):\n",
    "    content=html.escape(repr(obj))\n",
    "    return f\"<pre>{content}</pre>\"\n",
    "\n",
    "@htmlize.register(str) # (1)\n",
    "def _(text): # (2)\n",
    "    content=html.escape(text).replace('\\n','<br>\\n')\n",
    "    return f\"<p>{content}</p>\"\n",
    "\n",
    "@htmlize.register(numbers.Integral) # (3)\n",
    "def _(n):\n",
    "    return f\"<pre>{n} ({hex(n)})</pre>\"\n",
    "\n",
    "@htmlize.register(tuple)\n",
    "@htmlize.register(abc.MutableSequence) # (4)\n",
    "def _(seq):\n",
    "    inner = \"</li>\\n<li>\".join(htmlize(item) for item in seq)\n",
    "    return \"<ul>\\n<li>\" + inner + \"</li>\\n</ul>\""
   ]
  },
  {
   "cell_type": "markdown",
   "metadata": {},
   "source": [
    "* (1) : dispatch 함수에서 특화된 함수는 `@<dispatch함수명>.register(<객체형>)`으로 데커레이트 됨\n",
    "* (2) : 특화된 함수는 고유의 이름을 가질 필요가 없기 때문에 언더바(_)로 함수명을 지정함\n",
    "* (3) : numbers.Integral은 int의 가상(=추상) 슈퍼클래스(=부모클래스)\n",
    "* (4) : 동일한 함수로 여러 자료형 (ex. tuple, mutable object(list, dictionary))을 지원하기위해 데커레이터를 여러개 쌓아 올림"
   ]
  },
  {
   "cell_type": "code",
   "execution_count": 165,
   "metadata": {},
   "outputs": [
    {
     "name": "stdout",
     "output_type": "stream",
     "text": [
      "<p>hi <br>\n",
      " there</p>\n",
      "<pre>42 (0x2a)</pre>\n",
      "<ul>\n",
      "<li><p>alpha</p></li>\n",
      "<li><pre>66 (0x42)</pre></li>\n",
      "<li><pre>{1, 2, 3}</pre></li>\n",
      "</ul>\n"
     ]
    }
   ],
   "source": [
    "print(htmlize('hi \\n there'))\n",
    "print(htmlize(42))\n",
    "print(htmlize(['alpha', 66, {3,2,1}]))"
   ]
  },
  {
   "cell_type": "markdown",
   "metadata": {},
   "source": [
    "### decorator factory (매개변수화된 데커레이터)\n",
    "* 정의 : 데커레이터의 인수로 함수 말고 다른 값을 받도록 구현한 데커레이터"
   ]
  },
  {
   "cell_type": "code",
   "execution_count": 175,
   "metadata": {},
   "outputs": [
    {
     "name": "stdout",
     "output_type": "stream",
     "text": [
      "running register(active=False) -> decorate(<function f1 at 0x7f8cfdb3bd90>)\n",
      "running register(active=True) -> decorate(<function f2 at 0x7f8cfd95f6a8>)\n",
      "running main()\n",
      "registry -> {<function f2 at 0x7f8cfd95f6a8>}\n"
     ]
    }
   ],
   "source": [
    "registry = set()\n",
    "\n",
    "def register(active = True): # (1)\n",
    "    def decorate(func): # (2)\n",
    "        print(f'running register(active={active}) -> decorate({func})')\n",
    "        if active:\n",
    "            registry.add(func)\n",
    "        else:\n",
    "            registry.discard(func)\n",
    "            \n",
    "        return func\n",
    "    return decorate\n",
    "\n",
    "@register(active=False) # (3)\n",
    "def f1():\n",
    "    print('running f1()')\n",
    "\n",
    "@register()\n",
    "def f2():\n",
    "    print('running f2()')\n",
    "    \n",
    "    \n",
    "print('running main()')\n",
    "print(f'registry -> {registry}')"
   ]
  },
  {
   "cell_type": "markdown",
   "metadata": {},
   "source": [
    "* (1): register()는 키워드 인수를 받는 데커레이터 팩토리.\n",
    "* (2): decorate() 내부 함수가 실제 데커레이터. `f1 = register(active=True)(f1)` 이기 때문에 `f1 = decorate(f1)`이 된다. 따라서 **decorate()의 인수로 funciton이 들어가야한다는 점**에 유의할 것\n",
    "* (3): @register 팩토리는 원하는 매개변수와 함께 **함수**로 호출해야 함"
   ]
  },
  {
   "cell_type": "code",
   "execution_count": 187,
   "metadata": {},
   "outputs": [
    {
     "name": "stdout",
     "output_type": "stream",
     "text": [
      "[0.12322688s] snooze(0.123) -> None\n",
      "[0.12321329s] snooze(0.123) -> None\n",
      "[0.12315106s] snooze(0.123) -> None\n",
      "simple_snooze: 0.12320089340209961s\n",
      "simple_snooze: 0.12319827079772949s\n",
      "simple_snooze: 0.1231529712677002s\n"
     ]
    }
   ],
   "source": [
    "import time\n",
    "\n",
    "DEFULT_FMT = '[{elapsed:0.8f}s] {name}({args}) -> {result}'\n",
    "\n",
    "def clock(fmt=DEFULT_FMT): \n",
    "    def decorate(func):\n",
    "        def clocked(*_args):\n",
    "            t0 = time.time()\n",
    "            _result = func(*_args)\n",
    "            elapsed = time.time() - t0\n",
    "            name = func.__name__\n",
    "            args = ', '.join(repr(arg) for arg in _args)\n",
    "            result = repr(_result)\n",
    "            print(fmt.format(**locals())) # (1)\n",
    "            return _result\n",
    "        return clocked\n",
    "    return decorate\n",
    "\n",
    "\n",
    "if __name__==\"__main__\":\n",
    "    \n",
    "    @clock()\n",
    "    def snooze(seconds):\n",
    "        time.sleep(seconds)\n",
    "    \n",
    "    @clock('{name}: {elapsed}s')\n",
    "    def simple_snooze(seconds):\n",
    "        time.sleep(seconds)\n",
    "    \n",
    "    for i in range(3):\n",
    "        snooze(.123)\n",
    "        \n",
    "    for i in range(3):\n",
    "        simple_snooze(.123)"
   ]
  },
  {
   "cell_type": "markdown",
   "metadata": {},
   "source": [
    "* (1) : `locals()`는 이 함수가 호출된 메서드에서 정의된 모든 지역 변수를 딕셔너리 객체로 반환함. 따라서 format의 인수에 `**locals()`를 사용하면 지역 변수를 참조할 수 있음"
   ]
  },
  {
   "cell_type": "markdown",
   "metadata": {},
   "source": [
    "### example of using decorator\n",
    "* singleton : 오직 하나의 객체만 생성하는 클래스 (a class with only one instance)"
   ]
  },
  {
   "cell_type": "code",
   "execution_count": 23,
   "metadata": {},
   "outputs": [],
   "source": [
    "import functools\n",
    "\n",
    "def singleton(cls):\n",
    "    \"\"\"make a class a Singleton class (only one instance)\"\"\"\n",
    "    @functools.wraps(cls)\n",
    "    def wrapper_singleton(*args, **kwargs):\n",
    "        if not wrapper_singleton.instance:\n",
    "            wrapper_singleton.instance = cls(*args, **kwargs) # (1)\n",
    "        return wrapper_singleton.instance\n",
    "    wrapper_singleton.instance = None # (2)\n",
    "    return wrapper_singleton\n",
    "\n",
    "\n",
    "@singleton\n",
    "class TheOne:\n",
    "    pass"
   ]
  },
  {
   "cell_type": "markdown",
   "metadata": {},
   "source": [
    "* (1) 속성(instance) 값에 클래스의 첫번째 객체를 할당 (storing the first instace of the class as an attribute)\n",
    "* (2) 클래스의 속성(instance)을 생성"
   ]
  },
  {
   "cell_type": "code",
   "execution_count": 24,
   "metadata": {},
   "outputs": [
    {
     "name": "stdout",
     "output_type": "stream",
     "text": [
      "139731388666544\n",
      "139731388666544\n"
     ]
    },
    {
     "data": {
      "text/plain": [
       "True"
      ]
     },
     "execution_count": 24,
     "metadata": {},
     "output_type": "execute_result"
    }
   ],
   "source": [
    "first_one = TheOne()\n",
    "another_one = TheOne()\n",
    "\n",
    "print(id(first_one))\n",
    "print(id(another_one))\n",
    "\n",
    "first_one is another_one # 완전히 똑같은 객체"
   ]
  },
  {
   "cell_type": "markdown",
   "metadata": {},
   "source": [
    "##### etc : words definition\n",
    "* signature(시그니처) : 함수나 메소드의 입력값(parameter)과 값의 자료형 또는 출력값과 값의 자료형\n",
    "* abstract(추상화) : 공통적으로 사용하는 기능과 속성을 클래스나 함수로 묶어 이름을 붙임. 추상화된 클래스나 함수를 객체로 만들 수 없는데, 그 이유는 추상 클래스 또는 함수의 기능이 객체가 되기에는 너무 추상적으로 구현되어 있기 때문. 따라서 추상 클래스를 상속 받거나 추상 함수로 데커레이트 한 함수를 생성해 기능을 구체화한 후 객체를 생성해야 함\n",
    "\n",
    "##### advanced contents \n",
    "* [how you implemented your python decorator is wrong](https://github.com/GrahamDumpleton/wrapt/blob/develop/blog/01-how-you-implemented-your-python-decorator-is-wrong.md)\n",
    "* [more practical examples of using decorator in python](https://realpython.com/primer-on-python-decorators/#a-few-real-world-examples)"
   ]
  }
 ],
 "metadata": {
  "kernelspec": {
   "display_name": "Python 3",
   "language": "python",
   "name": "python3"
  },
  "language_info": {
   "codemirror_mode": {
    "name": "ipython",
    "version": 3
   },
   "file_extension": ".py",
   "mimetype": "text/x-python",
   "name": "python",
   "nbconvert_exporter": "python",
   "pygments_lexer": "ipython3",
   "version": "3.6.9"
  },
  "toc": {
   "base_numbering": 1,
   "nav_menu": {},
   "number_sections": true,
   "sideBar": true,
   "skip_h1_title": false,
   "title_cell": "Table of Contents",
   "title_sidebar": "Contents",
   "toc_cell": false,
   "toc_position": {
    "height": "calc(100% - 180px)",
    "left": "10px",
    "top": "150px",
    "width": "165px"
   },
   "toc_section_display": true,
   "toc_window_display": true
  }
 },
 "nbformat": 4,
 "nbformat_minor": 4
}
